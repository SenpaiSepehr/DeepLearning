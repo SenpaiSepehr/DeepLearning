{
  "nbformat": 4,
  "nbformat_minor": 0,
  "metadata": {
    "colab": {
      "provenance": [],
      "gpuType": "T4",
      "collapsed_sections": [
        "OnWsqHq7hG2I",
        "PYlv14YThQqD",
        "J0xuPg40hb4f",
        "sUXaZVwfhmNC",
        "0d_JxyidiVcr",
        "Du1MOayNiY84",
        "rUyv1zzbicwU",
        "wCPdrHp4UekB",
        "NjfAOxfZiiTv"
      ]
    },
    "kernelspec": {
      "name": "python3",
      "display_name": "Python 3"
    },
    "language_info": {
      "name": "python"
    },
    "accelerator": "GPU"
  },
  "cells": [
    {
      "cell_type": "markdown",
      "source": [
        "###**Library & Dependencies**"
      ],
      "metadata": {
        "id": "OnWsqHq7hG2I"
      }
    },
    {
      "cell_type": "code",
      "execution_count": 1,
      "metadata": {
        "id": "vPyTCZckffaR"
      },
      "outputs": [],
      "source": [
        "import os\n",
        "import numpy as np\n",
        "import pandas as pd\n",
        "import matplotlib.pyplot as plt\n",
        "\n",
        "import torch\n",
        "import torchvision\n",
        "import torch.nn as nn\n",
        "import torch.optim as optim\n",
        "import torch.nn.functional as F\n",
        "import torchvision.transforms as tt\n",
        "from torchvision.transforms import ToTensor\n",
        "from torch.utils.data import DataLoader, Dataset\n",
        "from torchvision import datasets, transforms, models\n",
        "\n",
        "from torchvision.datasets import CIFAR100\n",
        "from tqdm import tqdm"
      ]
    },
    {
      "cell_type": "markdown",
      "source": [
        "###**Load DataSet, Dataloader**"
      ],
      "metadata": {
        "id": "PYlv14YThQqD"
      }
    },
    {
      "cell_type": "code",
      "source": [
        "stats = ((0.5,0.5,0.5),(0.5,0.5,0.5))\n",
        "#transforming training set.\n",
        "train_transform = tt.Compose([\n",
        "    tt.RandomHorizontalFlip(),\n",
        "    tt.RandomCrop(32, padding=4, padding_mode=\"reflect\"),\n",
        "    tt.ToTensor(),        # 3 channels: RGB, tensor.size=[3*32*32]\n",
        "    tt.Normalize(*stats)  # to ensure gradients don't diverge\n",
        "])\n",
        "#transforming test set\n",
        "val_transform = tt.Compose([\n",
        "    tt.ToTensor(),\n",
        "    tt.Normalize(*stats) \n",
        "])\n",
        "\n",
        "train_data = CIFAR100(download=True, root=\"./data\", transform=train_transform)\n",
        "val_data = CIFAR100(root=\"./data\", train=False, transform=val_transform)\n",
        "\n",
        "print(train_data[0])\n",
        "def load_data(batch_size):\n",
        "    train_loader = DataLoader(train_data,batch_size=batch_size, num_workers=2,\n",
        "                          pin_memory=True, shuffle=True)\n",
        "    \n",
        "    val_loader = DataLoader(val_data, batch_size=batch_size, num_workers=2,\n",
        "                        pin_memory=True)\n",
        "    \n",
        "    return train_loader, val_loader"
      ],
      "metadata": {
        "id": "NBhF1ZHggbWk",
        "colab": {
          "base_uri": "https://localhost:8080/"
        },
        "outputId": "5742cb28-fdd9-4353-91dc-63813c5686da"
      },
      "execution_count": 2,
      "outputs": [
        {
          "output_type": "stream",
          "name": "stdout",
          "text": [
            "Downloading https://www.cs.toronto.edu/~kriz/cifar-100-python.tar.gz to ./data/cifar-100-python.tar.gz\n"
          ]
        },
        {
          "output_type": "stream",
          "name": "stderr",
          "text": [
            "100%|██████████| 169001437/169001437 [00:01<00:00, 84891710.20it/s]\n"
          ]
        },
        {
          "output_type": "stream",
          "name": "stdout",
          "text": [
            "Extracting ./data/cifar-100-python.tar.gz to ./data\n",
            "(tensor([[[ 1.0000,  1.0000,  1.0000,  ..., -0.0510,  0.3020,  0.4824],\n",
            "         [ 1.0000,  1.0000,  1.0000,  ..., -0.0588,  0.1686,  0.3098],\n",
            "         [ 1.0000,  1.0000,  1.0000,  ..., -0.0118,  0.1294,  0.2314],\n",
            "         ...,\n",
            "         [-0.2078, -0.3333, -0.4353,  ...,  0.0824, -0.1765, -0.7333],\n",
            "         [-0.0118, -0.2235, -0.2706,  ...,  0.1059, -0.2392, -0.8275],\n",
            "         [ 0.0980,  0.0510,  0.0980,  ..., -0.4039, -0.4902, -0.7647]],\n",
            "\n",
            "        [[ 1.0000,  1.0000,  1.0000,  ...,  0.0431,  0.3961,  0.5608],\n",
            "         [ 1.0000,  1.0000,  1.0000,  ...,  0.0275,  0.2706,  0.4196],\n",
            "         [ 1.0000,  1.0000,  1.0000,  ...,  0.0431,  0.1922,  0.2863],\n",
            "         ...,\n",
            "         [ 0.0510, -0.0824, -0.1843,  ...,  0.3569,  0.0431, -0.7176],\n",
            "         [ 0.2549,  0.0588,  0.0118,  ...,  0.2627, -0.1216, -0.8745],\n",
            "         [ 0.4039,  0.3569,  0.3725,  ..., -0.3961, -0.5137, -0.8667]],\n",
            "\n",
            "        [[ 1.0000,  1.0000,  1.0000,  ..., -0.3176,  0.0196,  0.3255],\n",
            "         [ 1.0000,  1.0000,  1.0000,  ..., -0.3020, -0.1373,  0.0588],\n",
            "         [ 1.0000,  1.0000,  1.0000,  ..., -0.1294, -0.1059, -0.0745],\n",
            "         ...,\n",
            "         [-0.5608, -0.6627, -0.7647,  ..., -0.3804, -0.5373, -0.9216],\n",
            "         [-0.4431, -0.6784, -0.7176,  ..., -0.3176, -0.5608, -0.9765],\n",
            "         [-0.5294, -0.5765, -0.4039,  ..., -0.8431, -0.8824, -0.9922]]]), 19)\n"
          ]
        }
      ]
    },
    {
      "cell_type": "markdown",
      "source": [
        "###**HandMade ResNet18 Model**"
      ],
      "metadata": {
        "id": "J0xuPg40hb4f"
      }
    },
    {
      "cell_type": "code",
      "source": [
        "from torch import Tensor\n",
        "from typing import Type\n",
        "\n",
        "class BasicBlock (nn.Module):\n",
        "  def __init__(self, in_channels, out_channels, stride=1, expansion=1, downsample=None):\n",
        "    super(BasicBlock, self).__init__()\n",
        "    self.expansion = expansion\n",
        "    self.downsample = downsample\n",
        "    self.conv1 = nn.Conv2d(in_channels, out_channels,kernel_size=3,stride=stride,\n",
        "                           padding=1,bias=False)\n",
        "    self.bn1 = nn.BatchNorm2d(out_channels)\n",
        "    self.relu = nn.ReLU(inplace=True)\n",
        "    self.conv2 = nn.Conv2d(out_channels,out_channels*self.expansion,\n",
        "                           kernel_size=3, padding=1, bias=False)\n",
        "    self.bn2 = nn.BatchNorm2d(out_channels*self.expansion)\n",
        "\n",
        "  def forward(self, x):\n",
        "    identity = x\n",
        "    out = self.conv1(x)\n",
        "    out = self.bn1(out)\n",
        "    out = self.relu(out)\n",
        "    out = self.conv2(out)\n",
        "    out = self.bn2(out)\n",
        "    \n",
        "    if self.downsample is not None: identity = self.downsample(x)\n",
        "    out += identity\n",
        "    out = self.relu(out)\n",
        "    return out\n",
        "\n",
        "class ResNet18(nn.Module):\n",
        "  def __init__(self, img_channels, num_layers,block,num_classes=1000):\n",
        "    super(ResNet18,self).__init__()\n",
        "    if num_layers == 18:\n",
        "      layers = [2,2,2,2]\n",
        "      self.expansion = 1\n",
        "    \n",
        "    self.in_channels = 64\n",
        "    self.conv1 = nn.Conv2d(in_channels = img_channels, \n",
        "                           out_channels=self.in_channels,kernel_size=7,stride=2,\n",
        "                           padding=3,bias=False)\n",
        "    self.bn1 = nn.BatchNorm2d(self.in_channels)\n",
        "    self.relu = nn.ReLU(inplace=True)\n",
        "    self.maxpool = nn.MaxPool2d(kernel_size=3, stride=2, padding=1)\n",
        "\n",
        "    self.layer1 = self._make_layer(block,64,layers[0])\n",
        "    self.layer2 = self._make_layer(block,128,layers[1], stride=2)\n",
        "    self.layer3 = self._make_layer(block,256,layers[2], stride=2)\n",
        "    self.layer4 = self._make_layer(block,512,layers[3], stride=2)\n",
        "\n",
        "    self.avgpool = nn.AdaptiveAvgPool2d((1,1))\n",
        "    self.fc = nn.Linear(512*self.expansion,num_classes)\n",
        "\n",
        "  def _make_layer(self,block,out_channels,blocks,stride=1) -> nn.Sequential:\n",
        "    downsample = None\n",
        "    if stride != 1:\n",
        "      downsample = nn.Sequential(nn.Conv2d(self.in_channels,\n",
        "                                           out_channels*self.expansion,\n",
        "                                           kernel_size=1,stride=stride,bias=False)\n",
        "      ,nn.BatchNorm2d(out_channels*self.expansion),)\n",
        "    layers = []\n",
        "    layers.append(block(self.in_channels, out_channels, stride,self.expansion,\n",
        "                        downsample))\n",
        "    self.in_channels = out_channels*self.expansion\n",
        "\n",
        "    for i in range(1, blocks):\n",
        "      layers.append(block(self.in_channels, out_channels, expansion=self.expansion))\n",
        "    return nn.Sequential(*layers)\n",
        "  \n",
        "  def forward(self, x):\n",
        "    x = self.conv1(x)\n",
        "    x = self.bn1(x)\n",
        "    x = self.relu(x)\n",
        "    x = self.maxpool(x)\n",
        "\n",
        "    x = self.layer1(x)\n",
        "    x = self.layer2(x)\n",
        "    x = self.layer3(x)\n",
        "    x = self.layer4(x)\n",
        "    #print('Dimensions of the last convolutional feature map: ', x.shape)\n",
        "\n",
        "    x = self.avgpool(x)\n",
        "    x = torch.flatten(x,1)\n",
        "    x = self.fc(x)\n",
        "\n",
        "    return x"
      ],
      "metadata": {
        "id": "VQKVuwQ8gque"
      },
      "execution_count": 3,
      "outputs": []
    },
    {
      "cell_type": "markdown",
      "source": [
        "###**Plots** <br> *to be done via* ```torch.utils.tensorboard```"
      ],
      "metadata": {
        "id": "sUXaZVwfhmNC"
      }
    },
    {
      "cell_type": "code",
      "source": [
        "def save_plots(train_acc, valid_acc, train_loss, valid_loss):\n",
        "    \"\"\"\n",
        "    Function to save the loss and accuracy plots to disk.\n",
        "    \"\"\"\n",
        "    # Accuracy plots.\n",
        "    plt.figure(figsize=(10, 7))\n",
        "    plt.plot(\n",
        "        train_acc, color='tab:blue', linestyle='-', \n",
        "        label='train accuracy'\n",
        "    )\n",
        "    plt.plot(\n",
        "        valid_acc, color='tab:red', linestyle='-', \n",
        "        label='validataion accuracy'\n",
        "    )\n",
        "    plt.xlabel('Epochs')\n",
        "    plt.ylabel('Accuracy')\n",
        "    plt.legend()\n",
        "    \n",
        "    # Loss plots.\n",
        "    plt.figure(figsize=(10, 7))\n",
        "    plt.plot(\n",
        "        train_loss, color='tab:blue', linestyle='-', \n",
        "        label='train loss'\n",
        "    )\n",
        "    plt.plot(\n",
        "        valid_loss, color='tab:red', linestyle='-', \n",
        "        label='validataion loss'\n",
        "    )\n",
        "    plt.xlabel('Epochs')\n",
        "    plt.ylabel('Loss')\n",
        "    plt.legend()"
      ],
      "metadata": {
        "id": "olpoFdA6gu8M"
      },
      "execution_count": 4,
      "outputs": []
    },
    {
      "cell_type": "markdown",
      "source": [
        "###**Training Model**"
      ],
      "metadata": {
        "id": "0d_JxyidiVcr"
      }
    },
    {
      "cell_type": "code",
      "source": [
        "def train(model, trainloader, optimizer, criterion, device):\n",
        "    model.train()\n",
        "    print('Training')\n",
        "    train_running_loss = 0.0\n",
        "    train_running_correct = 0\n",
        "    counter = 0\n",
        "    for i, data in tqdm(enumerate(trainloader), total=len(trainloader),\n",
        "                        ncols=50, bar_format='\\033[35m{l_bar}{bar}\\033[0m'):\n",
        "        counter += 1\n",
        "        image, labels = data\n",
        "        image = image.to(device)\n",
        "        labels = labels.to(device)\n",
        "        optimizer.zero_grad()\n",
        "\n",
        "        # Forward pass\n",
        "        outputs = model(image)\n",
        "\n",
        "        # Calculate the loss\n",
        "        loss = criterion(outputs, labels)\n",
        "        train_running_loss += loss.item()\n",
        "\n",
        "        # Calculate the accuracy\n",
        "        _, preds = torch.max(outputs.data, 1)\n",
        "        train_running_correct += (preds == labels).sum().item()\n",
        "\n",
        "        # Backpropagation\n",
        "        loss.backward()\n",
        "        \n",
        "        # Update the weights\n",
        "        optimizer.step()\n",
        "    \n",
        "    # print(\"Predicted labels \\n\")\n",
        "    # print(outputs)\n",
        "    # print(outputs.shape)\n",
        "\n",
        "    # print(\"Index of outputs\")\n",
        "    # print(preds)\n",
        "    # print(preds.shape)\n",
        "\n",
        "    # print(\"Target labels \\n\")\n",
        "    # print(labels)\n",
        "    # print(labels.shape)\n",
        "\n",
        "    # Loss and accuracy for the complete epoch\n",
        "    epoch_loss = train_running_loss / counter\n",
        "    epoch_acc = 100. * (train_running_correct / len(trainloader.dataset))\n",
        "    return epoch_loss, epoch_acc"
      ],
      "metadata": {
        "id": "UeS1bB5Pgybh"
      },
      "execution_count": 5,
      "outputs": []
    },
    {
      "cell_type": "markdown",
      "source": [
        "###**Validation Model**"
      ],
      "metadata": {
        "id": "Du1MOayNiY84"
      }
    },
    {
      "cell_type": "code",
      "source": [
        "def validate(model, testloader, criterion, device):\n",
        "    model.eval()\n",
        "    print('\\n'+'Validation')\n",
        "    valid_running_loss = 0.0\n",
        "    valid_running_correct = 0\n",
        "    counter = 0\n",
        "    with torch.no_grad():\n",
        "        for i, data in tqdm(enumerate(testloader), total=len(testloader),\n",
        "                            ncols=50, bar_format='\\033[36m{l_bar}{bar}\\033[0m'):\n",
        "            counter += 1\n",
        "            image, labels = data\n",
        "            image = image.to(device)\n",
        "            labels = labels.to(device)\n",
        "\n",
        "            # Forward pass.\n",
        "            outputs = model(image)\n",
        "\n",
        "            # Calculate the loss.\n",
        "            loss = criterion(outputs, labels)\n",
        "            valid_running_loss += loss.item()\n",
        "            \n",
        "            # Calculate the accuracy.\n",
        "            _, preds = torch.max(outputs.data, 1)\n",
        "            valid_running_correct += (preds == labels).sum().item()\n",
        "        \n",
        "    # Loss and accuracy for the complete epoch.\n",
        "    epoch_loss = valid_running_loss / counter\n",
        "    epoch_acc = 100. * (valid_running_correct / len(testloader.dataset))\n",
        "    return epoch_loss, epoch_acc"
      ],
      "metadata": {
        "id": "r6Kacu1Dg3cE"
      },
      "execution_count": 6,
      "outputs": []
    },
    {
      "cell_type": "markdown",
      "source": [
        "###**Seed**"
      ],
      "metadata": {
        "id": "rUyv1zzbicwU"
      }
    },
    {
      "cell_type": "code",
      "source": [
        "import random\n",
        "# Set seed.\n",
        "seed = 42\n",
        "torch.manual_seed(seed)\n",
        "torch.cuda.manual_seed(seed)\n",
        "torch.backends.cudnn.deterministic = True\n",
        "torch.backends.cudnn.benchmark = True\n",
        "np.random.seed(seed)\n",
        "random.seed(seed)"
      ],
      "metadata": {
        "id": "V1qbPXpNg6GG"
      },
      "execution_count": 7,
      "outputs": []
    },
    {
      "cell_type": "markdown",
      "source": [
        "###**Choosing Model**"
      ],
      "metadata": {
        "id": "wCPdrHp4UekB"
      }
    },
    {
      "cell_type": "code",
      "source": [
        "!pip install efficientnet_pytorch\n",
        "from efficientnet_pytorch import EfficientNet"
      ],
      "metadata": {
        "colab": {
          "base_uri": "https://localhost:8080/"
        },
        "id": "mQXOFCgkc9sq",
        "outputId": "77919e0b-b135-4910-8c2b-2cf7141c7e61"
      },
      "execution_count": 8,
      "outputs": [
        {
          "output_type": "stream",
          "name": "stdout",
          "text": [
            "Looking in indexes: https://pypi.org/simple, https://us-python.pkg.dev/colab-wheels/public/simple/\n",
            "Collecting efficientnet_pytorch\n",
            "  Downloading efficientnet_pytorch-0.7.1.tar.gz (21 kB)\n",
            "  Preparing metadata (setup.py) ... \u001b[?25l\u001b[?25hdone\n",
            "Requirement already satisfied: torch in /usr/local/lib/python3.10/dist-packages (from efficientnet_pytorch) (2.0.1+cu118)\n",
            "Requirement already satisfied: filelock in /usr/local/lib/python3.10/dist-packages (from torch->efficientnet_pytorch) (3.12.0)\n",
            "Requirement already satisfied: typing-extensions in /usr/local/lib/python3.10/dist-packages (from torch->efficientnet_pytorch) (4.5.0)\n",
            "Requirement already satisfied: sympy in /usr/local/lib/python3.10/dist-packages (from torch->efficientnet_pytorch) (1.11.1)\n",
            "Requirement already satisfied: networkx in /usr/local/lib/python3.10/dist-packages (from torch->efficientnet_pytorch) (3.1)\n",
            "Requirement already satisfied: jinja2 in /usr/local/lib/python3.10/dist-packages (from torch->efficientnet_pytorch) (3.1.2)\n",
            "Requirement already satisfied: triton==2.0.0 in /usr/local/lib/python3.10/dist-packages (from torch->efficientnet_pytorch) (2.0.0)\n",
            "Requirement already satisfied: cmake in /usr/local/lib/python3.10/dist-packages (from triton==2.0.0->torch->efficientnet_pytorch) (3.25.2)\n",
            "Requirement already satisfied: lit in /usr/local/lib/python3.10/dist-packages (from triton==2.0.0->torch->efficientnet_pytorch) (16.0.5)\n",
            "Requirement already satisfied: MarkupSafe>=2.0 in /usr/local/lib/python3.10/dist-packages (from jinja2->torch->efficientnet_pytorch) (2.1.2)\n",
            "Requirement already satisfied: mpmath>=0.19 in /usr/local/lib/python3.10/dist-packages (from sympy->torch->efficientnet_pytorch) (1.3.0)\n",
            "Building wheels for collected packages: efficientnet_pytorch\n",
            "  Building wheel for efficientnet_pytorch (setup.py) ... \u001b[?25l\u001b[?25hdone\n",
            "  Created wheel for efficientnet_pytorch: filename=efficientnet_pytorch-0.7.1-py3-none-any.whl size=16427 sha256=c40b8ab35773a1c9c515b280d4e8d50d61dd8a0100a1a63c94396812bef6c3a8\n",
            "  Stored in directory: /root/.cache/pip/wheels/03/3f/e9/911b1bc46869644912bda90a56bcf7b960f20b5187feea3baf\n",
            "Successfully built efficientnet_pytorch\n",
            "Installing collected packages: efficientnet_pytorch\n",
            "Successfully installed efficientnet_pytorch-0.7.1\n"
          ]
        }
      ]
    },
    {
      "cell_type": "code",
      "source": [
        "args = {\n",
        "    'model': 'ResNet18'\n",
        "}\n",
        "\n",
        "device = torch.device('cuda' if torch.cuda.is_available() else 'cpu')\n",
        "\n",
        "\n",
        "if args['model'] == 'ResNet18':\n",
        "    print('[INFO]: Initiating ResNet18')\n",
        "    model = ResNet18(img_channels=3, num_layers=18,\n",
        "                     block=BasicBlock, num_classes=100).to(device)\n",
        "    plot_name = 'ResNet18 - CIFAR100'\n",
        "\n",
        "if args['model'] == 'EfficientNetB3':\n",
        "    print('[INFO]: Initiating EfficientnetB3')\n",
        "    model = torchvision.models.efficientnet_b3(num_classes=100).to(device)\n",
        "    plot_name = 'EfficientNetB3 - CIFAR100'\n",
        "\n",
        "if args['model'] == 'EfficientNetB0':\n",
        "    print('[INFO]: Initiating EfficientnetB3')\n",
        "    model = EfficientNet.from_pretrained('efficientnet-b0', num_classes=100).to(device)\n",
        "    plot_name = 'EfficientNetB0 - CIFAR100'"
      ],
      "metadata": {
        "id": "zwrcKAElUPn1",
        "colab": {
          "base_uri": "https://localhost:8080/"
        },
        "outputId": "5e8d2156-fb46-4561-854e-09d7194bd4f2"
      },
      "execution_count": 9,
      "outputs": [
        {
          "output_type": "stream",
          "name": "stdout",
          "text": [
            "[INFO]: Initiating ResNet18\n"
          ]
        }
      ]
    },
    {
      "cell_type": "markdown",
      "source": [
        "###**Hyper-Param**"
      ],
      "metadata": {
        "id": "NjfAOxfZiiTv"
      }
    },
    {
      "cell_type": "code",
      "source": [
        "#Hyper-Params\n",
        "epochs = 20\n",
        "batch_size = 256\n",
        "learning_rate = 0.001\n",
        "optimizer = optim.Adam(model.parameters(), lr=learning_rate)\n",
        "criterion = nn.CrossEntropyLoss()"
      ],
      "metadata": {
        "id": "HjyEgqEDwLPl"
      },
      "execution_count": 10,
      "outputs": []
    },
    {
      "cell_type": "markdown",
      "source": [
        "###**Execute - Train( )**"
      ],
      "metadata": {
        "id": "EdMETEq9yZh0"
      }
    },
    {
      "cell_type": "code",
      "source": [
        "train_loader, val_loader = load_data(batch_size)\n",
        "\n",
        "train_loss = []\n",
        "train_acc = []\n",
        "\n",
        "for epoch in range(epochs):\n",
        "  print(f\"[INFO]: Epoch {epoch+1} of {epochs}\")\n",
        "\n",
        "  train_epoch_loss, train_epoch_acc = train(model,train_loader,optimizer,\n",
        "                                            criterion,device)\n",
        "\n",
        "  train_loss.append(train_epoch_loss)\n",
        "  train_acc.append(train_epoch_acc)\n",
        "\n",
        "  print(f\"\\nTraining loss: {train_epoch_loss:.2f}, Training acc: {train_epoch_acc:.1f}\")\n",
        "  print('-'*50)\n",
        "\n",
        "print('TRAINING COMPLETE')"
      ],
      "metadata": {
        "colab": {
          "base_uri": "https://localhost:8080/"
        },
        "id": "X4zE2yYrwQgl",
        "outputId": "bb74e3d0-c98a-4192-fafd-36743be9853d"
      },
      "execution_count": 11,
      "outputs": [
        {
          "metadata": {
            "tags": null
          },
          "name": "stdout",
          "output_type": "stream",
          "text": [
            "[INFO]: Epoch 1 of 20\n",
            "Training\n"
          ]
        },
        {
          "metadata": {
            "tags": null
          },
          "name": "stderr",
          "output_type": "stream",
          "text": [
            "\u001b[35m100%|█████████████████████████████████████████████\u001b[0m"
          ]
        },
        {
          "metadata": {
            "tags": null
          },
          "name": "stdout",
          "output_type": "stream",
          "text": [
            "Training loss: 3.65, Training acc: 14.3\n",
            "--------------------------------------------------\n",
            "[INFO]: Epoch 2 of 20\n",
            "Training\n"
          ]
        },
        {
          "metadata": {
            "tags": null
          },
          "name": "stderr",
          "output_type": "stream",
          "text": [
            "\n",
            "\u001b[35m100%|█████████████████████████████████████████████\u001b[0m"
          ]
        },
        {
          "metadata": {
            "tags": null
          },
          "name": "stdout",
          "output_type": "stream",
          "text": [
            "Training loss: 3.04, Training acc: 24.3\n",
            "--------------------------------------------------\n",
            "[INFO]: Epoch 3 of 20\n",
            "Training\n"
          ]
        },
        {
          "metadata": {
            "tags": null
          },
          "name": "stderr",
          "output_type": "stream",
          "text": [
            "\n",
            "\u001b[35m100%|█████████████████████████████████████████████\u001b[0m"
          ]
        },
        {
          "metadata": {
            "tags": null
          },
          "name": "stdout",
          "output_type": "stream",
          "text": [
            "Training loss: 2.69, Training acc: 30.9\n",
            "--------------------------------------------------\n",
            "[INFO]: Epoch 4 of 20\n",
            "Training\n"
          ]
        },
        {
          "metadata": {
            "tags": null
          },
          "name": "stderr",
          "output_type": "stream",
          "text": [
            "\n",
            "\u001b[35m100%|█████████████████████████████████████████████\u001b[0m"
          ]
        },
        {
          "metadata": {
            "tags": null
          },
          "name": "stdout",
          "output_type": "stream",
          "text": [
            "Training loss: 2.48, Training acc: 35.3\n",
            "--------------------------------------------------\n",
            "[INFO]: Epoch 5 of 20\n",
            "Training\n"
          ]
        },
        {
          "metadata": {
            "tags": null
          },
          "name": "stderr",
          "output_type": "stream",
          "text": [
            "\n",
            "\u001b[35m100%|█████████████████████████████████████████████\u001b[0m"
          ]
        },
        {
          "metadata": {
            "tags": null
          },
          "name": "stdout",
          "output_type": "stream",
          "text": [
            "Training loss: 2.32, Training acc: 38.7\n",
            "--------------------------------------------------\n",
            "[INFO]: Epoch 6 of 20\n",
            "Training\n"
          ]
        },
        {
          "metadata": {
            "tags": null
          },
          "name": "stderr",
          "output_type": "stream",
          "text": [
            "\n",
            "\u001b[35m100%|█████████████████████████████████████████████\u001b[0m"
          ]
        },
        {
          "metadata": {
            "tags": null
          },
          "name": "stdout",
          "output_type": "stream",
          "text": [
            "Training loss: 2.19, Training acc: 41.3\n",
            "--------------------------------------------------\n",
            "[INFO]: Epoch 7 of 20\n",
            "Training\n"
          ]
        },
        {
          "metadata": {
            "tags": null
          },
          "name": "stderr",
          "output_type": "stream",
          "text": [
            "\n",
            "\u001b[35m100%|█████████████████████████████████████████████\u001b[0m"
          ]
        },
        {
          "metadata": {
            "tags": null
          },
          "name": "stdout",
          "output_type": "stream",
          "text": [
            "Training loss: 2.07, Training acc: 44.1\n",
            "--------------------------------------------------\n",
            "[INFO]: Epoch 8 of 20\n",
            "Training\n"
          ]
        },
        {
          "metadata": {
            "tags": null
          },
          "name": "stderr",
          "output_type": "stream",
          "text": [
            "\n",
            "\u001b[35m100%|█████████████████████████████████████████████\u001b[0m"
          ]
        },
        {
          "metadata": {
            "tags": null
          },
          "name": "stdout",
          "output_type": "stream",
          "text": [
            "Training loss: 1.98, Training acc: 46.0\n",
            "--------------------------------------------------\n",
            "[INFO]: Epoch 9 of 20\n",
            "Training\n"
          ]
        },
        {
          "metadata": {
            "tags": null
          },
          "name": "stderr",
          "output_type": "stream",
          "text": [
            "\n",
            "\u001b[35m100%|█████████████████████████████████████████████\u001b[0m"
          ]
        },
        {
          "metadata": {
            "tags": null
          },
          "name": "stdout",
          "output_type": "stream",
          "text": [
            "Training loss: 1.89, Training acc: 48.1\n",
            "--------------------------------------------------\n",
            "[INFO]: Epoch 10 of 20\n",
            "Training\n"
          ]
        },
        {
          "metadata": {
            "tags": null
          },
          "name": "stderr",
          "output_type": "stream",
          "text": [
            "\n",
            "\u001b[35m100%|█████████████████████████████████████████████\u001b[0m"
          ]
        },
        {
          "metadata": {
            "tags": null
          },
          "name": "stdout",
          "output_type": "stream",
          "text": [
            "Training loss: 1.81, Training acc: 49.8\n",
            "--------------------------------------------------\n",
            "[INFO]: Epoch 11 of 20\n",
            "Training\n"
          ]
        },
        {
          "metadata": {
            "tags": null
          },
          "name": "stderr",
          "output_type": "stream",
          "text": [
            "\n",
            "\u001b[35m100%|█████████████████████████████████████████████\u001b[0m\n"
          ]
        },
        {
          "metadata": {
            "tags": null
          },
          "name": "stdout",
          "output_type": "stream",
          "text": [
            "Training loss: 1.74, Training acc: 51.6\n",
            "--------------------------------------------------\n",
            "[INFO]: Epoch 12 of 20\n",
            "Training\n"
          ]
        },
        {
          "metadata": {
            "tags": null
          },
          "name": "stderr",
          "output_type": "stream",
          "text": [
            "\u001b[35m100%|█████████████████████████████████████████████\u001b[0m"
          ]
        },
        {
          "metadata": {
            "tags": null
          },
          "name": "stdout",
          "output_type": "stream",
          "text": [
            "Training loss: 1.65, Training acc: 53.5\n",
            "--------------------------------------------------\n",
            "[INFO]: Epoch 13 of 20\n",
            "Training\n"
          ]
        },
        {
          "metadata": {
            "tags": null
          },
          "name": "stderr",
          "output_type": "stream",
          "text": [
            "\n",
            "\u001b[35m100%|█████████████████████████████████████████████\u001b[0m"
          ]
        },
        {
          "metadata": {
            "tags": null
          },
          "name": "stdout",
          "output_type": "stream",
          "text": [
            "Training loss: 1.58, Training acc: 55.3\n",
            "--------------------------------------------------\n",
            "[INFO]: Epoch 14 of 20\n",
            "Training\n"
          ]
        },
        {
          "metadata": {
            "tags": null
          },
          "name": "stderr",
          "output_type": "stream",
          "text": [
            "\n",
            "\u001b[35m100%|█████████████████████████████████████████████\u001b[0m"
          ]
        },
        {
          "metadata": {
            "tags": null
          },
          "name": "stdout",
          "output_type": "stream",
          "text": [
            "Training loss: 1.53, Training acc: 56.7\n",
            "--------------------------------------------------\n",
            "[INFO]: Epoch 15 of 20\n",
            "Training\n"
          ]
        },
        {
          "metadata": {
            "tags": null
          },
          "name": "stderr",
          "output_type": "stream",
          "text": [
            "\n",
            "\u001b[35m100%|█████████████████████████████████████████████\u001b[0m"
          ]
        },
        {
          "metadata": {
            "tags": null
          },
          "name": "stdout",
          "output_type": "stream",
          "text": [
            "Training loss: 1.46, Training acc: 58.2\n",
            "--------------------------------------------------\n",
            "[INFO]: Epoch 16 of 20\n",
            "Training\n"
          ]
        },
        {
          "metadata": {
            "tags": null
          },
          "name": "stderr",
          "output_type": "stream",
          "text": [
            "\n",
            "\u001b[35m100%|█████████████████████████████████████████████\u001b[0m"
          ]
        },
        {
          "metadata": {
            "tags": null
          },
          "name": "stdout",
          "output_type": "stream",
          "text": [
            "Training loss: 1.40, Training acc: 59.6\n",
            "--------------------------------------------------\n",
            "[INFO]: Epoch 17 of 20\n",
            "Training\n"
          ]
        },
        {
          "metadata": {
            "tags": null
          },
          "name": "stderr",
          "output_type": "stream",
          "text": [
            "\n",
            "\u001b[35m100%|█████████████████████████████████████████████\u001b[0m"
          ]
        },
        {
          "metadata": {
            "tags": null
          },
          "name": "stdout",
          "output_type": "stream",
          "text": [
            "Training loss: 1.34, Training acc: 61.0\n",
            "--------------------------------------------------\n",
            "[INFO]: Epoch 18 of 20\n",
            "Training\n"
          ]
        },
        {
          "metadata": {
            "tags": null
          },
          "name": "stderr",
          "output_type": "stream",
          "text": [
            "\n",
            "\u001b[35m100%|█████████████████████████████████████████████\u001b[0m"
          ]
        },
        {
          "metadata": {
            "tags": null
          },
          "name": "stdout",
          "output_type": "stream",
          "text": [
            "Training loss: 1.29, Training acc: 62.2\n",
            "--------------------------------------------------\n",
            "[INFO]: Epoch 19 of 20\n",
            "Training\n"
          ]
        },
        {
          "output_type": "stream",
          "name": "stderr",
          "text": [
            "\n",
            "\u001b[35m100%|█████████████████████████████████████████████\u001b[0m"
          ]
        },
        {
          "output_type": "stream",
          "name": "stdout",
          "text": [
            "Training loss: 1.23, Training acc: 64.2\n",
            "--------------------------------------------------\n",
            "[INFO]: Epoch 20 of 20\n",
            "Training\n"
          ]
        },
        {
          "output_type": "stream",
          "name": "stderr",
          "text": [
            "\n",
            "\u001b[35m100%|█████████████████████████████████████████████\u001b[0m"
          ]
        },
        {
          "output_type": "stream",
          "name": "stdout",
          "text": [
            "Training loss: 1.18, Training acc: 65.2\n",
            "--------------------------------------------------\n",
            "TRAINING COMPLETE\n"
          ]
        },
        {
          "output_type": "stream",
          "name": "stderr",
          "text": [
            "\n"
          ]
        }
      ]
    },
    {
      "cell_type": "markdown",
      "source": [
        "###**Execute - Test( )**"
      ],
      "metadata": {
        "id": "cHcTfwlhzX9t"
      }
    },
    {
      "cell_type": "code",
      "source": [
        "import time\n",
        "\n",
        "train_loader, val_loader = load_data(batch_size)\n",
        "\n",
        "valid_loss = []\n",
        "valid_acc = []\n",
        "\n",
        "for epoch in range(epochs):\n",
        "  print(f\"[INFO]: Epoch {epoch+1} of {epochs}\")\n",
        "\n",
        "  start_time = time.time()\n",
        "  valid_epoch_loss, valid_epoch_acc = validate(model,val_loader,criterion,device)\n",
        "  end_time = time.time()\n",
        "  inference = end_time - start_time\n",
        "\n",
        "  valid_loss.append(valid_epoch_loss)\n",
        "  valid_acc.append(valid_epoch_acc)\n",
        "\n",
        "  print(f\"\\nInference time: {inference:.2f} seconds\")\n",
        "  print(f\"Validation loss: {valid_epoch_loss:.2f}, Validation acc: {valid_epoch_acc:.1f}\")\n",
        "  print('-'*50)\n",
        "\n",
        "save_plots(\n",
        "    train_acc,valid_acc,train_loss,valid_loss\n",
        ")\n",
        "print('TRAINING COMPLETE')\n"
      ],
      "metadata": {
        "id": "Mf9i9vxvg_jS",
        "colab": {
          "base_uri": "https://localhost:8080/",
          "height": 1000
        },
        "outputId": "f8a15a1d-1b9d-4b5b-d9ed-3b5fc83f68b5"
      },
      "execution_count": 12,
      "outputs": [
        {
          "output_type": "stream",
          "name": "stdout",
          "text": [
            "[INFO]: Epoch 1 of 20\n",
            "\n",
            "Validation\n"
          ]
        },
        {
          "output_type": "stream",
          "name": "stderr",
          "text": [
            "\u001b[36m100%|█████████████████████████████████████████████\u001b[0m"
          ]
        },
        {
          "output_type": "stream",
          "name": "stdout",
          "text": [
            "\n",
            "Inference time: 3.02 seconds\n",
            "Validation loss: 1.90, Validation acc: 51.5\n",
            "--------------------------------------------------\n",
            "[INFO]: Epoch 2 of 20\n",
            "\n",
            "Validation\n"
          ]
        },
        {
          "output_type": "stream",
          "name": "stderr",
          "text": [
            "\n",
            "\u001b[36m100%|█████████████████████████████████████████████\u001b[0m"
          ]
        },
        {
          "output_type": "stream",
          "name": "stdout",
          "text": [
            "\n",
            "Inference time: 2.87 seconds\n",
            "Validation loss: 1.90, Validation acc: 51.5\n",
            "--------------------------------------------------\n",
            "[INFO]: Epoch 3 of 20\n",
            "\n",
            "Validation\n"
          ]
        },
        {
          "output_type": "stream",
          "name": "stderr",
          "text": [
            "\n",
            "\u001b[36m100%|█████████████████████████████████████████████\u001b[0m"
          ]
        },
        {
          "output_type": "stream",
          "name": "stdout",
          "text": [
            "\n",
            "Inference time: 3.20 seconds\n",
            "Validation loss: 1.90, Validation acc: 51.5\n",
            "--------------------------------------------------\n",
            "[INFO]: Epoch 4 of 20\n",
            "\n",
            "Validation\n"
          ]
        },
        {
          "output_type": "stream",
          "name": "stderr",
          "text": [
            "\n",
            "\u001b[36m100%|█████████████████████████████████████████████\u001b[0m"
          ]
        },
        {
          "output_type": "stream",
          "name": "stdout",
          "text": [
            "\n",
            "Inference time: 3.14 seconds\n",
            "Validation loss: 1.90, Validation acc: 51.5\n",
            "--------------------------------------------------\n",
            "[INFO]: Epoch 5 of 20\n",
            "\n",
            "Validation\n"
          ]
        },
        {
          "output_type": "stream",
          "name": "stderr",
          "text": [
            "\n",
            "\u001b[36m100%|█████████████████████████████████████████████\u001b[0m"
          ]
        },
        {
          "output_type": "stream",
          "name": "stdout",
          "text": [
            "\n",
            "Inference time: 2.80 seconds\n",
            "Validation loss: 1.90, Validation acc: 51.5\n",
            "--------------------------------------------------\n",
            "[INFO]: Epoch 6 of 20\n",
            "\n",
            "Validation\n"
          ]
        },
        {
          "output_type": "stream",
          "name": "stderr",
          "text": [
            "\n",
            "\u001b[36m100%|█████████████████████████████████████████████\u001b[0m\n"
          ]
        },
        {
          "output_type": "stream",
          "name": "stdout",
          "text": [
            "\n",
            "Inference time: 2.86 seconds\n",
            "Validation loss: 1.90, Validation acc: 51.5\n",
            "--------------------------------------------------\n",
            "[INFO]: Epoch 7 of 20\n",
            "\n",
            "Validation\n"
          ]
        },
        {
          "output_type": "stream",
          "name": "stderr",
          "text": [
            "\u001b[36m100%|█████████████████████████████████████████████\u001b[0m"
          ]
        },
        {
          "output_type": "stream",
          "name": "stdout",
          "text": [
            "\n",
            "Inference time: 3.13 seconds\n",
            "Validation loss: 1.90, Validation acc: 51.5\n",
            "--------------------------------------------------\n",
            "[INFO]: Epoch 8 of 20\n",
            "\n",
            "Validation\n"
          ]
        },
        {
          "output_type": "stream",
          "name": "stderr",
          "text": [
            "\n",
            "\u001b[36m100%|█████████████████████████████████████████████\u001b[0m"
          ]
        },
        {
          "output_type": "stream",
          "name": "stdout",
          "text": [
            "\n",
            "Inference time: 3.18 seconds\n",
            "Validation loss: 1.90, Validation acc: 51.5\n",
            "--------------------------------------------------\n",
            "[INFO]: Epoch 9 of 20\n",
            "\n",
            "Validation\n"
          ]
        },
        {
          "output_type": "stream",
          "name": "stderr",
          "text": [
            "\n",
            "\u001b[36m100%|█████████████████████████████████████████████\u001b[0m"
          ]
        },
        {
          "output_type": "stream",
          "name": "stdout",
          "text": [
            "\n",
            "Inference time: 2.87 seconds\n",
            "Validation loss: 1.90, Validation acc: 51.5\n",
            "--------------------------------------------------\n",
            "[INFO]: Epoch 10 of 20\n",
            "\n",
            "Validation\n"
          ]
        },
        {
          "output_type": "stream",
          "name": "stderr",
          "text": [
            "\n",
            "\u001b[36m100%|█████████████████████████████████████████████\u001b[0m"
          ]
        },
        {
          "output_type": "stream",
          "name": "stdout",
          "text": [
            "\n",
            "Inference time: 2.80 seconds\n",
            "Validation loss: 1.90, Validation acc: 51.5\n",
            "--------------------------------------------------\n",
            "[INFO]: Epoch 11 of 20\n",
            "\n",
            "Validation\n"
          ]
        },
        {
          "output_type": "stream",
          "name": "stderr",
          "text": [
            "\n",
            "\u001b[36m100%|█████████████████████████████████████████████\u001b[0m"
          ]
        },
        {
          "output_type": "stream",
          "name": "stdout",
          "text": [
            "\n",
            "Inference time: 3.18 seconds\n",
            "Validation loss: 1.90, Validation acc: 51.5\n",
            "--------------------------------------------------\n",
            "[INFO]: Epoch 12 of 20\n",
            "\n",
            "Validation\n"
          ]
        },
        {
          "output_type": "stream",
          "name": "stderr",
          "text": [
            "\n",
            "\u001b[36m100%|█████████████████████████████████████████████\u001b[0m"
          ]
        },
        {
          "output_type": "stream",
          "name": "stdout",
          "text": [
            "\n",
            "Inference time: 3.32 seconds\n",
            "Validation loss: 1.90, Validation acc: 51.5\n",
            "--------------------------------------------------\n",
            "[INFO]: Epoch 13 of 20\n",
            "\n",
            "Validation\n"
          ]
        },
        {
          "output_type": "stream",
          "name": "stderr",
          "text": [
            "\n",
            "\u001b[36m100%|█████████████████████████████████████████████\u001b[0m"
          ]
        },
        {
          "output_type": "stream",
          "name": "stdout",
          "text": [
            "\n",
            "Inference time: 2.83 seconds\n",
            "Validation loss: 1.90, Validation acc: 51.5\n",
            "--------------------------------------------------\n",
            "[INFO]: Epoch 14 of 20\n",
            "\n",
            "Validation\n"
          ]
        },
        {
          "output_type": "stream",
          "name": "stderr",
          "text": [
            "\n",
            "\u001b[36m100%|█████████████████████████████████████████████\u001b[0m"
          ]
        },
        {
          "output_type": "stream",
          "name": "stdout",
          "text": [
            "\n",
            "Inference time: 2.87 seconds\n",
            "Validation loss: 1.90, Validation acc: 51.5\n",
            "--------------------------------------------------\n",
            "[INFO]: Epoch 15 of 20\n",
            "\n",
            "Validation\n"
          ]
        },
        {
          "output_type": "stream",
          "name": "stderr",
          "text": [
            "\n",
            "\u001b[36m100%|█████████████████████████████████████████████\u001b[0m"
          ]
        },
        {
          "output_type": "stream",
          "name": "stdout",
          "text": [
            "\n",
            "Inference time: 3.22 seconds\n",
            "Validation loss: 1.90, Validation acc: 51.5\n",
            "--------------------------------------------------\n",
            "[INFO]: Epoch 16 of 20\n",
            "\n",
            "Validation\n"
          ]
        },
        {
          "output_type": "stream",
          "name": "stderr",
          "text": [
            "\n",
            "\u001b[36m100%|█████████████████████████████████████████████\u001b[0m"
          ]
        },
        {
          "output_type": "stream",
          "name": "stdout",
          "text": [
            "\n",
            "Inference time: 3.22 seconds\n",
            "Validation loss: 1.90, Validation acc: 51.5\n",
            "--------------------------------------------------\n",
            "[INFO]: Epoch 17 of 20\n",
            "\n",
            "Validation\n"
          ]
        },
        {
          "output_type": "stream",
          "name": "stderr",
          "text": [
            "\n",
            "\u001b[36m100%|█████████████████████████████████████████████\u001b[0m"
          ]
        },
        {
          "output_type": "stream",
          "name": "stdout",
          "text": [
            "\n",
            "Inference time: 2.81 seconds\n",
            "Validation loss: 1.90, Validation acc: 51.5\n",
            "--------------------------------------------------\n",
            "[INFO]: Epoch 18 of 20\n",
            "\n",
            "Validation\n"
          ]
        },
        {
          "output_type": "stream",
          "name": "stderr",
          "text": [
            "\n",
            "\u001b[36m100%|█████████████████████████████████████████████\u001b[0m"
          ]
        },
        {
          "output_type": "stream",
          "name": "stdout",
          "text": [
            "\n",
            "Inference time: 2.83 seconds\n",
            "Validation loss: 1.90, Validation acc: 51.5\n",
            "--------------------------------------------------\n",
            "[INFO]: Epoch 19 of 20\n",
            "\n",
            "Validation\n"
          ]
        },
        {
          "output_type": "stream",
          "name": "stderr",
          "text": [
            "\n",
            "\u001b[36m100%|█████████████████████████████████████████████\u001b[0m"
          ]
        },
        {
          "output_type": "stream",
          "name": "stdout",
          "text": [
            "\n",
            "Inference time: 3.12 seconds\n",
            "Validation loss: 1.90, Validation acc: 51.5\n",
            "--------------------------------------------------\n",
            "[INFO]: Epoch 20 of 20\n",
            "\n",
            "Validation\n"
          ]
        },
        {
          "output_type": "stream",
          "name": "stderr",
          "text": [
            "\n",
            "\u001b[36m100%|█████████████████████████████████████████████\u001b[0m\n"
          ]
        },
        {
          "output_type": "stream",
          "name": "stdout",
          "text": [
            "\n",
            "Inference time: 3.23 seconds\n",
            "Validation loss: 1.90, Validation acc: 51.5\n",
            "--------------------------------------------------\n",
            "TRAINING COMPLETE\n"
          ]
        },
        {
          "output_type": "display_data",
          "data": {
            "text/plain": [
              "<Figure size 1000x700 with 1 Axes>"
            ],
            "image/png": "[encoded data removed]"
          },
          "metadata": {}
        },
        {
          "output_type": "display_data",
          "data": {
            "text/plain": [
              "<Figure size 1000x700 with 1 Axes>"
            ],
            "image/png": "[encoded data removed]"
          },
          "metadata": {}
        }
      ]
    }
  ]
}