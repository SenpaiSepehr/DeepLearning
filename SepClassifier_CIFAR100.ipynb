{
  "nbformat": 4,
  "nbformat_minor": 0,
  "metadata": {
    "colab": {
      "provenance": [],
      "gpuType": "T4",
      "collapsed_sections": [
        "OnWsqHq7hG2I",
        "J0xuPg40hb4f",
        "sUXaZVwfhmNC",
        "Du1MOayNiY84",
        "rUyv1zzbicwU",
        "NjfAOxfZiiTv",
        "Bn9mFSGDZNdE"
      ],
      "include_colab_link": true
    },
    "kernelspec": {
      "name": "python3",
      "display_name": "Python 3"
    },
    "language_info": {
      "name": "python"
    },
    "accelerator": "GPU"
  },
  "cells": [
    {
      "cell_type": "markdown",
      "metadata": {
        "id": "view-in-github",
        "colab_type": "text"
      },
      "source": [
        "<a href=\"https://colab.research.google.com/github/SenpaiSepehr/DeepLearning/blob/main/SepClassifier_CIFAR100.ipynb\" target=\"_parent\"><img src=\"https://colab.research.google.com/assets/colab-badge.svg\" alt=\"Open In Colab\"/></a>"
      ]
    },
    {
      "cell_type": "markdown",
      "source": [
        "####Library & Dependencies"
      ],
      "metadata": {
        "id": "OnWsqHq7hG2I"
      }
    },
    {
      "cell_type": "code",
      "execution_count": 1,
      "metadata": {
        "id": "vPyTCZckffaR"
      },
      "outputs": [],
      "source": [
        "import os\n",
        "import numpy as np\n",
        "import pandas as pd\n",
        "import matplotlib.pyplot as plt\n",
        "\n",
        "import torch\n",
        "import torchvision\n",
        "import torch.nn as nn\n",
        "import torch.optim as optim\n",
        "import torch.nn.functional as F\n",
        "import torchvision.models as models\n",
        "import torchvision.transforms as tt\n",
        "from torchvision.transforms import ToTensor\n",
        "from torch.utils.data import DataLoader, Dataset\n",
        "from torchvision import datasets, transforms, models\n",
        "\n",
        "from torchvision.datasets import CIFAR100\n",
        "from tqdm import tqdm"
      ]
    },
    {
      "cell_type": "markdown",
      "source": [
        "####DataLoader"
      ],
      "metadata": {
        "id": "PYlv14YThQqD"
      }
    },
    {
      "cell_type": "code",
      "source": [
        "stats = ((0.5071, 0.4867, 0.4408), (0.2675, 0.2565, 0.2761))\n",
        "#transforming training set.\n",
        "train_transform = tt.Compose([\n",
        "    tt.RandomHorizontalFlip(),\n",
        "    tt.RandomCrop(32, padding=4, padding_mode=\"reflect\"),\n",
        "    #tt.RandomRotation(degrees=15),\n",
        "    #tt.RandomResizedCrop(size=32, scale=(0.8,1.0), ratio=(0.8,1.2)),\n",
        "    tt.ToTensor(),        # 3 channels: RGB, tensor.size=[3*32*32]\n",
        "    tt.Normalize(*stats)  # to ensure gradients don't diverge\n",
        "])\n",
        "#transforming test set\n",
        "val_transform = tt.Compose([\n",
        "    tt.ToTensor(),\n",
        "    tt.Normalize(*stats) \n",
        "])\n",
        "\n",
        "train_data = CIFAR100(download=True, root=\"./data\", transform=train_transform)\n",
        "val_data = CIFAR100(root=\"./data\", train=False, transform=val_transform)\n",
        "\n",
        "def load_data(batch_size):\n",
        "    train_loader = DataLoader(train_data,batch_size=batch_size, num_workers=2,\n",
        "                          pin_memory=True, shuffle=True)\n",
        "    \n",
        "    val_loader = DataLoader(val_data, batch_size=batch_size, num_workers=2,\n",
        "                        pin_memory=True)\n",
        "    \n",
        "    return train_loader, val_loader"
      ],
      "metadata": {
        "id": "NBhF1ZHggbWk",
        "colab": {
          "base_uri": "https://localhost:8080/"
        },
        "outputId": "44f22d2b-1bd0-472c-930d-3cded03e0502"
      },
      "execution_count": 2,
      "outputs": [
        {
          "output_type": "stream",
          "name": "stdout",
          "text": [
            "Files already downloaded and verified\n"
          ]
        }
      ]
    },
    {
      "cell_type": "markdown",
      "source": [
        "####Resnet18 <font color='red'>**Scratch Model**</font>"
      ],
      "metadata": {
        "id": "J0xuPg40hb4f"
      }
    },
    {
      "cell_type": "code",
      "source": [
        "from torch import Tensor\n",
        "from typing import Type\n",
        "\n",
        "class BasicBlock (nn.Module):\n",
        "  def __init__(self, in_channels, out_channels, stride=1, expansion=1, downsample=None):\n",
        "    super(BasicBlock, self).__init__()\n",
        "    self.expansion = expansion\n",
        "    self.downsample = downsample\n",
        "    self.conv1 = nn.Conv2d(in_channels, out_channels,kernel_size=3,stride=stride,\n",
        "                           padding=1,bias=False)\n",
        "    self.bn1 = nn.BatchNorm2d(out_channels)\n",
        "    self.relu = nn.ReLU(inplace=True)\n",
        "    self.conv2 = nn.Conv2d(out_channels,out_channels*self.expansion,\n",
        "                           kernel_size=3, padding=1, bias=False)\n",
        "    self.bn2 = nn.BatchNorm2d(out_channels*self.expansion)\n",
        "\n",
        "  def forward(self, x):\n",
        "    identity = x\n",
        "    out = self.conv1(x)\n",
        "    out = self.bn1(out)\n",
        "    out = self.relu(out)\n",
        "    out = self.conv2(out)\n",
        "    out = self.bn2(out)\n",
        "    \n",
        "    if self.downsample is not None: identity = self.downsample(x)\n",
        "    out += identity\n",
        "    out = self.relu(out)\n",
        "    return out\n",
        "\n",
        "class ResNet18(nn.Module):\n",
        "  def __init__(self, img_channels, num_layers,block,num_classes=1000):\n",
        "    super(ResNet18,self).__init__()\n",
        "    if num_layers == 18:\n",
        "      layers = [2,2,2,2]\n",
        "      self.expansion = 1\n",
        "    \n",
        "    self.in_channels = 64\n",
        "    self.conv1 = nn.Conv2d(in_channels = img_channels, \n",
        "                           out_channels=self.in_channels,kernel_size=7,stride=2,\n",
        "                           padding=3,bias=False)\n",
        "    self.bn1 = nn.BatchNorm2d(self.in_channels)\n",
        "    self.relu = nn.ReLU(inplace=True)\n",
        "    self.maxpool = nn.MaxPool2d(kernel_size=3, stride=2, padding=1)\n",
        "\n",
        "    self.layer1 = self._make_layer(block,64,layers[0])\n",
        "    self.layer2 = self._make_layer(block,128,layers[1], stride=2)\n",
        "    self.layer3 = self._make_layer(block,256,layers[2], stride=2)\n",
        "    self.layer4 = self._make_layer(block,512,layers[3], stride=2)\n",
        "\n",
        "    self.avgpool = nn.AdaptiveAvgPool2d((1,1))\n",
        "    self.fc = nn.Linear(512*self.expansion,num_classes)\n",
        "\n",
        "  def _make_layer(self,block,out_channels,blocks,stride=1) -> nn.Sequential:\n",
        "    downsample = None\n",
        "    if stride != 1:\n",
        "      downsample = nn.Sequential(nn.Conv2d(self.in_channels,\n",
        "                                           out_channels*self.expansion,\n",
        "                                           kernel_size=1,stride=stride,bias=False)\n",
        "      ,nn.BatchNorm2d(out_channels*self.expansion),)\n",
        "    layers = []\n",
        "    layers.append(block(self.in_channels, out_channels, stride,self.expansion,\n",
        "                        downsample))\n",
        "    self.in_channels = out_channels*self.expansion\n",
        "\n",
        "    for i in range(1, blocks):\n",
        "      layers.append(block(self.in_channels, out_channels, expansion=self.expansion))\n",
        "    return nn.Sequential(*layers)\n",
        "  \n",
        "  def forward(self, x):\n",
        "    x = self.conv1(x)\n",
        "    x = self.bn1(x)\n",
        "    x = self.relu(x)\n",
        "    x = self.maxpool(x)\n",
        "\n",
        "    x = self.layer1(x)\n",
        "    x = self.layer2(x)\n",
        "    x = self.layer3(x)\n",
        "    x = self.layer4(x)\n",
        "    #print('Dimensions of the last convolutional feature map: ', x.shape)\n",
        "\n",
        "    x = self.avgpool(x)\n",
        "    x = torch.flatten(x,1)\n",
        "    x = self.fc(x)\n",
        "\n",
        "    return x"
      ],
      "metadata": {
        "id": "VQKVuwQ8gque"
      },
      "execution_count": 3,
      "outputs": []
    },
    {
      "cell_type": "markdown",
      "source": [
        "####Plot <font color='red'>**Matlib**</font>"
      ],
      "metadata": {
        "id": "sUXaZVwfhmNC"
      }
    },
    {
      "cell_type": "code",
      "source": [
        "def save_plots(train_acc, valid_acc, train_loss, valid_loss):\n",
        "    \"\"\"\n",
        "    Function to save the loss and accuracy plots to disk.\n",
        "    \"\"\"\n",
        "    # Accuracy plots.\n",
        "    plt.figure(figsize=(10, 7))\n",
        "    plt.plot(\n",
        "        train_acc, color='tab:blue', linestyle='-', \n",
        "        label='train accuracy'\n",
        "    )\n",
        "    plt.plot(\n",
        "        valid_acc, color='tab:red', linestyle='-', \n",
        "        label='validataion accuracy'\n",
        "    )\n",
        "    plt.xlabel('Epochs')\n",
        "    plt.ylabel('Accuracy')\n",
        "    plt.legend()\n",
        "    \n",
        "    # Loss plots.\n",
        "    plt.figure(figsize=(10, 7))\n",
        "    plt.plot(\n",
        "        train_loss, color='tab:blue', linestyle='-', \n",
        "        label='train loss'\n",
        "    )\n",
        "    plt.plot(\n",
        "        valid_loss, color='tab:red', linestyle='-', \n",
        "        label='validataion loss'\n",
        "    )\n",
        "    plt.xlabel('Epochs')\n",
        "    plt.ylabel('Loss')\n",
        "    plt.legend()"
      ],
      "metadata": {
        "id": "olpoFdA6gu8M"
      },
      "execution_count": 4,
      "outputs": []
    },
    {
      "cell_type": "markdown",
      "source": [
        "####Training Module"
      ],
      "metadata": {
        "id": "0d_JxyidiVcr"
      }
    },
    {
      "cell_type": "code",
      "source": [
        "def train(model, trainloader, optimizer, criterion, scheduler, device):\n",
        "    model.train()\n",
        "    print('Training')\n",
        "    train_running_loss = 0.0\n",
        "    train_running_correct = 0\n",
        "    counter = 0\n",
        "\n",
        "    for i, data in tqdm(enumerate(trainloader), total=len(trainloader),\n",
        "                        ncols=35, bar_format='\\033[35m{l_bar}{bar}\\033[0m'):\n",
        "        counter += 1\n",
        "        image, labels = data\n",
        "        image = image.to(device)\n",
        "        labels = labels.to(device)\n",
        "        optimizer.zero_grad()\n",
        "\n",
        "        # Forward pass\n",
        "        outputs = model(image)\n",
        "\n",
        "        # Calculate the loss\n",
        "        loss = criterion(outputs, labels)\n",
        "        train_running_loss += loss.item()\n",
        "\n",
        "        # Calculate the accuracy\n",
        "        _, preds = torch.max(outputs.data, 1)\n",
        "        train_running_correct += (preds == labels).sum().item()\n",
        "\n",
        "        # Backpropagation\n",
        "        loss.backward()\n",
        "        \n",
        "        # Update the weights\n",
        "        optimizer.step()\n",
        "\n",
        "        # Update the learning-rate\n",
        "        scheduler.step()\n",
        "    \n",
        "    # Loss and accuracy for the complete epoch\n",
        "    epoch_loss = train_running_loss / counter\n",
        "    epoch_acc = 100. * (train_running_correct / len(trainloader.dataset))\n",
        "    return epoch_loss, epoch_acc"
      ],
      "metadata": {
        "id": "UeS1bB5Pgybh"
      },
      "execution_count": 5,
      "outputs": []
    },
    {
      "cell_type": "markdown",
      "source": [
        "####Test Module"
      ],
      "metadata": {
        "id": "Du1MOayNiY84"
      }
    },
    {
      "cell_type": "code",
      "source": [
        "def validate(model, testloader, criterion, device):\n",
        "    model.eval()\n",
        "    print('\\n'+'Validation')\n",
        "    valid_running_loss = 0.0\n",
        "    valid_running_correct = 0\n",
        "    counter = 0\n",
        "    with torch.no_grad():\n",
        "        for i, data in tqdm(enumerate(testloader), total=len(testloader),\n",
        "                            ncols=35, bar_format='\\033[36m{l_bar}{bar}\\033[0m'):\n",
        "            counter += 1\n",
        "            image, labels = data\n",
        "            image = image.to(device)\n",
        "            labels = labels.to(device)\n",
        "\n",
        "            # Forward pass.\n",
        "            outputs = model(image)\n",
        "\n",
        "            # Calculate the loss.\n",
        "            loss = criterion(outputs, labels)\n",
        "            valid_running_loss += loss.item()\n",
        "            \n",
        "            # Calculate the accuracy.\n",
        "            _, preds = torch.max(outputs.data, 1)\n",
        "            valid_running_correct += (preds == labels).sum().item()\n",
        "\n",
        "    # Loss and accuracy for the complete epoch.\n",
        "    epoch_loss = valid_running_loss / counter\n",
        "    epoch_acc = 100. * (valid_running_correct / len(testloader.dataset))\n",
        "    return epoch_loss, epoch_acc"
      ],
      "metadata": {
        "id": "r6Kacu1Dg3cE"
      },
      "execution_count": 6,
      "outputs": []
    },
    {
      "cell_type": "markdown",
      "source": [
        "####Seed"
      ],
      "metadata": {
        "id": "rUyv1zzbicwU"
      }
    },
    {
      "cell_type": "code",
      "source": [
        "import random\n",
        "# Set seed.\n",
        "seed = 42\n",
        "torch.manual_seed(seed)\n",
        "torch.cuda.manual_seed(seed)\n",
        "torch.backends.cudnn.deterministic = True\n",
        "torch.backends.cudnn.benchmark = True\n",
        "np.random.seed(seed)\n",
        "random.seed(seed)"
      ],
      "metadata": {
        "id": "V1qbPXpNg6GG"
      },
      "execution_count": 7,
      "outputs": []
    },
    {
      "cell_type": "markdown",
      "source": [
        "####Choosing Model <font color='red'>**ResNet18** </font><font color='green'>**EfficientNet-B0**</font>"
      ],
      "metadata": {
        "id": "wCPdrHp4UekB"
      }
    },
    {
      "cell_type": "code",
      "source": [
        "!pip install efficientnet_pytorch\n",
        "from efficientnet_pytorch import EfficientNet"
      ],
      "metadata": {
        "colab": {
          "base_uri": "https://localhost:8080/"
        },
        "id": "mQXOFCgkc9sq",
        "outputId": "2c8c6535-09de-4719-86c3-7f798cb8e442"
      },
      "execution_count": 8,
      "outputs": [
        {
          "output_type": "stream",
          "name": "stdout",
          "text": [
            "Looking in indexes: https://pypi.org/simple, https://us-python.pkg.dev/colab-wheels/public/simple/\n",
            "Requirement already satisfied: efficientnet_pytorch in /usr/local/lib/python3.10/dist-packages (0.7.1)\n",
            "Requirement already satisfied: torch in /usr/local/lib/python3.10/dist-packages (from efficientnet_pytorch) (2.0.1+cu118)\n",
            "Requirement already satisfied: filelock in /usr/local/lib/python3.10/dist-packages (from torch->efficientnet_pytorch) (3.12.0)\n",
            "Requirement already satisfied: typing-extensions in /usr/local/lib/python3.10/dist-packages (from torch->efficientnet_pytorch) (4.5.0)\n",
            "Requirement already satisfied: sympy in /usr/local/lib/python3.10/dist-packages (from torch->efficientnet_pytorch) (1.11.1)\n",
            "Requirement already satisfied: networkx in /usr/local/lib/python3.10/dist-packages (from torch->efficientnet_pytorch) (3.1)\n",
            "Requirement already satisfied: jinja2 in /usr/local/lib/python3.10/dist-packages (from torch->efficientnet_pytorch) (3.1.2)\n",
            "Requirement already satisfied: triton==2.0.0 in /usr/local/lib/python3.10/dist-packages (from torch->efficientnet_pytorch) (2.0.0)\n",
            "Requirement already satisfied: cmake in /usr/local/lib/python3.10/dist-packages (from triton==2.0.0->torch->efficientnet_pytorch) (3.25.2)\n",
            "Requirement already satisfied: lit in /usr/local/lib/python3.10/dist-packages (from triton==2.0.0->torch->efficientnet_pytorch) (16.0.5)\n",
            "Requirement already satisfied: MarkupSafe>=2.0 in /usr/local/lib/python3.10/dist-packages (from jinja2->torch->efficientnet_pytorch) (2.1.2)\n",
            "Requirement already satisfied: mpmath>=0.19 in /usr/local/lib/python3.10/dist-packages (from sympy->torch->efficientnet_pytorch) (1.3.0)\n"
          ]
        }
      ]
    },
    {
      "cell_type": "code",
      "source": [
        "args = {\n",
        "    'model': 'pretrainedEfficientNetB0'\n",
        "}\n",
        "\n",
        "device = torch.device('cuda' if torch.cuda.is_available() else 'cpu')\n",
        "\n",
        "\n",
        "if args['model'] == 'ResNet18':\n",
        "    print('[INFO]: Initiating ResNet18')\n",
        "    model = ResNet18(img_channels=3, num_layers=18,\n",
        "                     block=BasicBlock, num_classes=100).to(device)\n",
        "    plot_name = 'ResNet18 - CIFAR100'\n",
        "\n",
        "if args['model'] == 'EfficientNetB0':\n",
        "    print('[INFO]: Initiating EfficientnetB0')\n",
        "    model = models.efficientnet_b0(num_classes=100).to(device)\n",
        "    plot_name = 'EfficientNetB0 - CIFAR100'\n",
        "\n",
        "if args['model'] == 'pretrainedEfficientNetB0':\n",
        "    print('[INFO]: Initiating pretrained EfficientnetB0')\n",
        "    model = EfficientNet.from_pretrained('efficientnet-b0', num_classes=100).to(device)\n",
        "    plot_name = 'Pretrained EfficientNetB0 - CIFAR100'"
      ],
      "metadata": {
        "id": "zwrcKAElUPn1",
        "colab": {
          "base_uri": "https://localhost:8080/"
        },
        "outputId": "dd46447c-861c-4e42-aa70-1785d464bf73"
      },
      "execution_count": 9,
      "outputs": [
        {
          "output_type": "stream",
          "name": "stdout",
          "text": [
            "[INFO]: Initiating pretrained EfficientnetB0\n",
            "Loaded pretrained weights for efficientnet-b0\n"
          ]
        }
      ]
    },
    {
      "cell_type": "markdown",
      "source": [
        "####Hyper-Param Tuning <font color='red'>**Optuna**</font>\n",
        "\n"
      ],
      "metadata": {
        "id": "NjfAOxfZiiTv"
      }
    },
    {
      "cell_type": "code",
      "source": [
        "# !pip install optuna\n",
        "# !pip install tensorboard\n",
        "# from torch.utils.tensorboard import SummaryWriter\n",
        "# import optuna\n",
        "# import time\n",
        "\n",
        "# %load_ext tensorboard\n",
        "# writer = SummaryWriter(log_dir='logs')\n",
        "\n",
        "# criterion = nn.CrossEntropyLoss()   # Not tuning\n",
        "\n",
        "# batch_size = 256\n",
        "# train_loader, val_loader = load_data(batch_size)\n",
        "\n",
        "# epochs = 20                         \n",
        "# trial_num = 0\n",
        "\n",
        "# def objective(trial):\n",
        "#     global trial_num\n",
        "#     # Define hyperparameters\n",
        "#     learning_rate = trial.suggest_float('learning_rate', 1e-5, 1e-2, log=True)\n",
        "#     weight_decay = trial.suggest_float('weight_decay', 0.0, 0.1)\n",
        "\n",
        "#     # Update optimizer and scheduler\n",
        "#     optimizer = optim.RMSprop(model.parameters(), lr=learning_rate,\n",
        "#                           weight_decay=weight_decay, momentum=0.9)\n",
        "#     scheduler = torch.optim.lr_scheduler.OneCycleLR(optimizer, max_lr=0.01, epochs=epochs,\n",
        "#                                                    steps_per_epoch=len(train_loader))\n",
        "    \n",
        "#     highest_acc = 0.0\n",
        "#     # Train and evaluate the model\n",
        "#     for epoch in range(epochs):\n",
        "\n",
        "#       print(f\"\\n -----[ Trial: {trial_num+1} <> Epoch: {epoch+1} ]-----\")\n",
        "\n",
        "#       train_loss, train_acc = train(model, train_loader, optimizer, criterion, device,\n",
        "#                                     weight_decay, scheduler)\n",
        "#       writer.add_scalar('Loss/train', train_loss,trial_num)\n",
        "#       writer.add_scalar('Accuracy/train', train_acc,trial_num)\n",
        "\n",
        "#       start_time = time.time()\n",
        "#       valid_loss, valid_acc = validate(model, val_loader, criterion, device)\n",
        "#       writer.add_scalar('Loss/test', valid_loss, trial_num)\n",
        "#       writer.add_scalar('Accuracy/test', valid_acc, trial_num) \n",
        "#       end_time = time.time()\n",
        "#       inference = end_time - start_time\n",
        "\n",
        "#       print(f\"\\nTraining loss: {train_loss:.2f}, Training acc: {train_acc:.1f}\")\n",
        "#       print(f\"Validation loss: {valid_loss:.2f}, Validation acc: {valid_acc:.1f}\")\n",
        "#       print(f\"Inference time: {inference:.2f} seconds\")\n",
        "\n",
        "#       # Finding the most accurate iteration\n",
        "#       if valid_acc > highest_acc:\n",
        "#         highest_acc = valid_acc\n",
        "#         best_epoch = epoch + 1\n",
        "\n",
        "#       if epoch == epochs-1:\n",
        "#         print(f\"Highest validation accuracy achieved: {highest_acc:.1f} at epoch {best_epoch}\")\n",
        "#         highest_acc = 0\n",
        "\n",
        "#     trial_num += 1\n",
        "\n",
        "#     # Report the objective value(Accuracy) to Optuna\n",
        "#     return valid_acc\n",
        "\n",
        "# # Set up the Optuna study\n",
        "# study = optuna.create_study(direction='maximize')\n",
        "# study.optimize(objective, n_trials=4)\n",
        "\n",
        "# # Access the best hyperparameters and objective value\n",
        "# best_params = study.best_params\n",
        "# best_value = study.best_value\n",
        "# writer.close()\n",
        "# print(\"Best hyperparameters:\", best_params)\n",
        "# print(\"Best objective value:\", best_value)\n",
        "\n",
        "# %tensorboard --logdir logs\n"
      ],
      "metadata": {
        "id": "cgZsU_08U6lQ"
      },
      "execution_count": 10,
      "outputs": []
    },
    {
      "cell_type": "markdown",
      "source": [
        "####Loading Model <font color='red'>**Pre-trained Weights**</font>"
      ],
      "metadata": {
        "id": "Bn9mFSGDZNdE"
      }
    },
    {
      "cell_type": "code",
      "source": [
        "# from google.colab import drive\n",
        "# drive.mount('/content/drive')\n",
        "\n",
        "# if args['model'] == 'ResNet18':\n",
        "#   model = ResNet18(img_channels=3, num_layers=18,\n",
        "#                    block=BasicBlock, num_classes=100).to(device)\n",
        "#   model.load_state_dict(torch.load(\n",
        "#       '/content/drive/My Drive/Colab Notebooks/ResNet18_SGD.pth'))\n",
        "  \n",
        "# if args['model'] == 'EfficientNetB0':\n",
        "#   model = EfficientNet.from_pretrained(\n",
        "#       'efficientnet-b0', num_classes=100).to(device)\n",
        "#   model.load_state_dict(torch.load(\n",
        "#       '/content/drive/My Drive/Colab Notebooks/EfficientNetB0.pth'))"
      ],
      "metadata": {
        "id": "CuohMU-3zGGy"
      },
      "execution_count": 11,
      "outputs": []
    },
    {
      "cell_type": "markdown",
      "source": [
        "####Execution"
      ],
      "metadata": {
        "id": "EdMETEq9yZh0"
      }
    },
    {
      "cell_type": "code",
      "source": [
        "# ------------------------  OLD CODE ------------------------------\n",
        "#!pip install torchsummary\n",
        "from torchsummary import summary\n",
        "\n",
        "input_shape = (3, 32, 32)  # CIFAR100 \n",
        "\n",
        "# EfficientNet-B0\n",
        "opt_decay = 0.013     \n",
        "learning_rate = 1.5e-4  \n",
        "\n",
        "# # ResNet18\n",
        "# opt_decay = 0.0002\n",
        "# learning_rate = 8e-4\n",
        "\n",
        "epochs = 50\n",
        "max_lr = 1.5e-4\n",
        "batch_size = 512\n",
        "train_loader, val_loader = load_data(batch_size)\n",
        "\n",
        "optimizer = optim.Adam(model.parameters(), lr=learning_rate,\n",
        "                      weight_decay=opt_decay)\n",
        "## Here is what happens to weights when set SGD(w_decay=opt_decay)\n",
        "#  weight = weight - learning_rate * (gradient + weight_decay * weight)\n",
        "\n",
        "criterion = nn.CrossEntropyLoss()\n",
        "scheduler = optim.lr_scheduler.OneCycleLR(optimizer, max_lr, epochs=epochs,\n",
        "                                          steps_per_epoch=len(train_loader))\n",
        "\n",
        "summary(model,input_shape)\n",
        "\n",
        "import time\n",
        "\n",
        "train_loss, valid_loss = [],[]\n",
        "train_acc, valid_acc = [],[]\n",
        "highest_acc = 0.0\n",
        "best_epoch = 0\n",
        "patience = 5\n",
        "early_stop_counter = 0\n",
        "\n",
        "for epoch in range(epochs):\n",
        "  print(f\"[INFO]: Epoch {epoch+1} of {epochs}\")\n",
        "\n",
        "  train_epoch_loss, train_epoch_acc = train(model,train_loader,optimizer,\n",
        "                                            criterion,scheduler, device)\n",
        "\n",
        "  train_loss.append(train_epoch_loss)\n",
        "  train_acc.append(train_epoch_acc)\n",
        "\n",
        "  start_time = time.time()\n",
        "  valid_epoch_loss, valid_epoch_acc = validate(model,val_loader,\n",
        "                                               criterion, device)\n",
        "  end_time = time.time()\n",
        "  inference = end_time - start_time\n",
        "\n",
        "  valid_loss.append(valid_epoch_loss)\n",
        "  valid_acc.append(valid_epoch_acc)\n",
        "\n",
        "  print(f\"\\nTraining loss: {train_epoch_loss:.2f}, Training acc: {train_epoch_acc:.1f}\")\n",
        "  print(f\"Validation loss: {valid_epoch_loss:.2f}, Validation acc: {valid_epoch_acc:.1f}\")\n",
        "  print(f\"Inference time: {inference:.2f} seconds\")\n",
        "  print('-'*50)\n",
        "\n",
        "  if valid_epoch_acc > highest_acc:\n",
        "    highest_acc = valid_epoch_acc\n",
        "    best_epoch = epoch + 1\n",
        "    early_stop_counter = 0\n",
        "  else:\n",
        "    early_stop_counter += 1\n",
        "    if early_stop_counter >= patience:\n",
        "      print(f\"Early stopping at epoch {epoch + 1} as validation accuracy did not improve.\")\n",
        "      break\n",
        "\n",
        "\n",
        "save_plots(train_acc,valid_acc,train_loss,valid_loss)\n",
        "print(f\"Highest validation accuracy achieved: {highest_acc:.1f} at epoch {best_epoch}\")\n",
        "print(plot_name)\n"
      ],
      "metadata": {
        "id": "X4zE2yYrwQgl",
        "colab": {
          "base_uri": "https://localhost:8080/",
          "height": 1000
        },
        "outputId": "8738ea34-303f-48eb-da65-d23b054db833"
      },
      "execution_count": 12,
      "outputs": [
        {
          "output_type": "stream",
          "name": "stdout",
          "text": [
            "----------------------------------------------------------------\n",
            "        Layer (type)               Output Shape         Param #\n",
            "================================================================\n",
            "         ZeroPad2d-1            [-1, 3, 33, 33]               0\n",
            "Conv2dStaticSamePadding-2           [-1, 32, 16, 16]             864\n",
            "       BatchNorm2d-3           [-1, 32, 16, 16]              64\n",
            "MemoryEfficientSwish-4           [-1, 32, 16, 16]               0\n",
            "         ZeroPad2d-5           [-1, 32, 18, 18]               0\n",
            "Conv2dStaticSamePadding-6           [-1, 32, 16, 16]             288\n",
            "       BatchNorm2d-7           [-1, 32, 16, 16]              64\n",
            "MemoryEfficientSwish-8           [-1, 32, 16, 16]               0\n",
            "          Identity-9             [-1, 32, 1, 1]               0\n",
            "Conv2dStaticSamePadding-10              [-1, 8, 1, 1]             264\n",
            "MemoryEfficientSwish-11              [-1, 8, 1, 1]               0\n",
            "         Identity-12              [-1, 8, 1, 1]               0\n",
            "Conv2dStaticSamePadding-13             [-1, 32, 1, 1]             288\n",
            "         Identity-14           [-1, 32, 16, 16]               0\n",
            "Conv2dStaticSamePadding-15           [-1, 16, 16, 16]             512\n",
            "      BatchNorm2d-16           [-1, 16, 16, 16]              32\n",
            "      MBConvBlock-17           [-1, 16, 16, 16]               0\n",
            "         Identity-18           [-1, 16, 16, 16]               0\n",
            "Conv2dStaticSamePadding-19           [-1, 96, 16, 16]           1,536\n",
            "      BatchNorm2d-20           [-1, 96, 16, 16]             192\n",
            "MemoryEfficientSwish-21           [-1, 96, 16, 16]               0\n",
            "        ZeroPad2d-22           [-1, 96, 17, 17]               0\n",
            "Conv2dStaticSamePadding-23             [-1, 96, 8, 8]             864\n",
            "      BatchNorm2d-24             [-1, 96, 8, 8]             192\n",
            "MemoryEfficientSwish-25             [-1, 96, 8, 8]               0\n",
            "         Identity-26             [-1, 96, 1, 1]               0\n",
            "Conv2dStaticSamePadding-27              [-1, 4, 1, 1]             388\n",
            "MemoryEfficientSwish-28              [-1, 4, 1, 1]               0\n",
            "         Identity-29              [-1, 4, 1, 1]               0\n",
            "Conv2dStaticSamePadding-30             [-1, 96, 1, 1]             480\n",
            "         Identity-31             [-1, 96, 8, 8]               0\n",
            "Conv2dStaticSamePadding-32             [-1, 24, 8, 8]           2,304\n",
            "      BatchNorm2d-33             [-1, 24, 8, 8]              48\n",
            "      MBConvBlock-34             [-1, 24, 8, 8]               0\n",
            "         Identity-35             [-1, 24, 8, 8]               0\n",
            "Conv2dStaticSamePadding-36            [-1, 144, 8, 8]           3,456\n",
            "      BatchNorm2d-37            [-1, 144, 8, 8]             288\n",
            "MemoryEfficientSwish-38            [-1, 144, 8, 8]               0\n",
            "        ZeroPad2d-39          [-1, 144, 10, 10]               0\n",
            "Conv2dStaticSamePadding-40            [-1, 144, 8, 8]           1,296\n",
            "      BatchNorm2d-41            [-1, 144, 8, 8]             288\n",
            "MemoryEfficientSwish-42            [-1, 144, 8, 8]               0\n",
            "         Identity-43            [-1, 144, 1, 1]               0\n",
            "Conv2dStaticSamePadding-44              [-1, 6, 1, 1]             870\n",
            "MemoryEfficientSwish-45              [-1, 6, 1, 1]               0\n",
            "         Identity-46              [-1, 6, 1, 1]               0\n",
            "Conv2dStaticSamePadding-47            [-1, 144, 1, 1]           1,008\n",
            "         Identity-48            [-1, 144, 8, 8]               0\n",
            "Conv2dStaticSamePadding-49             [-1, 24, 8, 8]           3,456\n",
            "      BatchNorm2d-50             [-1, 24, 8, 8]              48\n",
            "      MBConvBlock-51             [-1, 24, 8, 8]               0\n",
            "         Identity-52             [-1, 24, 8, 8]               0\n",
            "Conv2dStaticSamePadding-53            [-1, 144, 8, 8]           3,456\n",
            "      BatchNorm2d-54            [-1, 144, 8, 8]             288\n",
            "MemoryEfficientSwish-55            [-1, 144, 8, 8]               0\n",
            "        ZeroPad2d-56          [-1, 144, 11, 11]               0\n",
            "Conv2dStaticSamePadding-57            [-1, 144, 4, 4]           3,600\n",
            "      BatchNorm2d-58            [-1, 144, 4, 4]             288\n",
            "MemoryEfficientSwish-59            [-1, 144, 4, 4]               0\n",
            "         Identity-60            [-1, 144, 1, 1]               0\n",
            "Conv2dStaticSamePadding-61              [-1, 6, 1, 1]             870\n",
            "MemoryEfficientSwish-62              [-1, 6, 1, 1]               0\n",
            "         Identity-63              [-1, 6, 1, 1]               0\n",
            "Conv2dStaticSamePadding-64            [-1, 144, 1, 1]           1,008\n",
            "         Identity-65            [-1, 144, 4, 4]               0\n",
            "Conv2dStaticSamePadding-66             [-1, 40, 4, 4]           5,760\n",
            "      BatchNorm2d-67             [-1, 40, 4, 4]              80\n",
            "      MBConvBlock-68             [-1, 40, 4, 4]               0\n",
            "         Identity-69             [-1, 40, 4, 4]               0\n",
            "Conv2dStaticSamePadding-70            [-1, 240, 4, 4]           9,600\n",
            "      BatchNorm2d-71            [-1, 240, 4, 4]             480\n",
            "MemoryEfficientSwish-72            [-1, 240, 4, 4]               0\n",
            "        ZeroPad2d-73            [-1, 240, 8, 8]               0\n",
            "Conv2dStaticSamePadding-74            [-1, 240, 4, 4]           6,000\n",
            "      BatchNorm2d-75            [-1, 240, 4, 4]             480\n",
            "MemoryEfficientSwish-76            [-1, 240, 4, 4]               0\n",
            "         Identity-77            [-1, 240, 1, 1]               0\n",
            "Conv2dStaticSamePadding-78             [-1, 10, 1, 1]           2,410\n",
            "MemoryEfficientSwish-79             [-1, 10, 1, 1]               0\n",
            "         Identity-80             [-1, 10, 1, 1]               0\n",
            "Conv2dStaticSamePadding-81            [-1, 240, 1, 1]           2,640\n",
            "         Identity-82            [-1, 240, 4, 4]               0\n",
            "Conv2dStaticSamePadding-83             [-1, 40, 4, 4]           9,600\n",
            "      BatchNorm2d-84             [-1, 40, 4, 4]              80\n",
            "      MBConvBlock-85             [-1, 40, 4, 4]               0\n",
            "         Identity-86             [-1, 40, 4, 4]               0\n",
            "Conv2dStaticSamePadding-87            [-1, 240, 4, 4]           9,600\n",
            "      BatchNorm2d-88            [-1, 240, 4, 4]             480\n",
            "MemoryEfficientSwish-89            [-1, 240, 4, 4]               0\n",
            "        ZeroPad2d-90            [-1, 240, 5, 5]               0\n",
            "Conv2dStaticSamePadding-91            [-1, 240, 2, 2]           2,160\n",
            "      BatchNorm2d-92            [-1, 240, 2, 2]             480\n",
            "MemoryEfficientSwish-93            [-1, 240, 2, 2]               0\n",
            "         Identity-94            [-1, 240, 1, 1]               0\n",
            "Conv2dStaticSamePadding-95             [-1, 10, 1, 1]           2,410\n",
            "MemoryEfficientSwish-96             [-1, 10, 1, 1]               0\n",
            "         Identity-97             [-1, 10, 1, 1]               0\n",
            "Conv2dStaticSamePadding-98            [-1, 240, 1, 1]           2,640\n",
            "         Identity-99            [-1, 240, 2, 2]               0\n",
            "Conv2dStaticSamePadding-100             [-1, 80, 2, 2]          19,200\n",
            "     BatchNorm2d-101             [-1, 80, 2, 2]             160\n",
            "     MBConvBlock-102             [-1, 80, 2, 2]               0\n",
            "        Identity-103             [-1, 80, 2, 2]               0\n",
            "Conv2dStaticSamePadding-104            [-1, 480, 2, 2]          38,400\n",
            "     BatchNorm2d-105            [-1, 480, 2, 2]             960\n",
            "MemoryEfficientSwish-106            [-1, 480, 2, 2]               0\n",
            "       ZeroPad2d-107            [-1, 480, 4, 4]               0\n",
            "Conv2dStaticSamePadding-108            [-1, 480, 2, 2]           4,320\n",
            "     BatchNorm2d-109            [-1, 480, 2, 2]             960\n",
            "MemoryEfficientSwish-110            [-1, 480, 2, 2]               0\n",
            "        Identity-111            [-1, 480, 1, 1]               0\n",
            "Conv2dStaticSamePadding-112             [-1, 20, 1, 1]           9,620\n",
            "MemoryEfficientSwish-113             [-1, 20, 1, 1]               0\n",
            "        Identity-114             [-1, 20, 1, 1]               0\n",
            "Conv2dStaticSamePadding-115            [-1, 480, 1, 1]          10,080\n",
            "        Identity-116            [-1, 480, 2, 2]               0\n",
            "Conv2dStaticSamePadding-117             [-1, 80, 2, 2]          38,400\n",
            "     BatchNorm2d-118             [-1, 80, 2, 2]             160\n",
            "     MBConvBlock-119             [-1, 80, 2, 2]               0\n",
            "        Identity-120             [-1, 80, 2, 2]               0\n",
            "Conv2dStaticSamePadding-121            [-1, 480, 2, 2]          38,400\n",
            "     BatchNorm2d-122            [-1, 480, 2, 2]             960\n",
            "MemoryEfficientSwish-123            [-1, 480, 2, 2]               0\n",
            "       ZeroPad2d-124            [-1, 480, 4, 4]               0\n",
            "Conv2dStaticSamePadding-125            [-1, 480, 2, 2]           4,320\n",
            "     BatchNorm2d-126            [-1, 480, 2, 2]             960\n",
            "MemoryEfficientSwish-127            [-1, 480, 2, 2]               0\n",
            "        Identity-128            [-1, 480, 1, 1]               0\n",
            "Conv2dStaticSamePadding-129             [-1, 20, 1, 1]           9,620\n",
            "MemoryEfficientSwish-130             [-1, 20, 1, 1]               0\n",
            "        Identity-131             [-1, 20, 1, 1]               0\n",
            "Conv2dStaticSamePadding-132            [-1, 480, 1, 1]          10,080\n",
            "        Identity-133            [-1, 480, 2, 2]               0\n",
            "Conv2dStaticSamePadding-134             [-1, 80, 2, 2]          38,400\n",
            "     BatchNorm2d-135             [-1, 80, 2, 2]             160\n",
            "     MBConvBlock-136             [-1, 80, 2, 2]               0\n",
            "        Identity-137             [-1, 80, 2, 2]               0\n",
            "Conv2dStaticSamePadding-138            [-1, 480, 2, 2]          38,400\n",
            "     BatchNorm2d-139            [-1, 480, 2, 2]             960\n",
            "MemoryEfficientSwish-140            [-1, 480, 2, 2]               0\n",
            "       ZeroPad2d-141            [-1, 480, 6, 6]               0\n",
            "Conv2dStaticSamePadding-142            [-1, 480, 2, 2]          12,000\n",
            "     BatchNorm2d-143            [-1, 480, 2, 2]             960\n",
            "MemoryEfficientSwish-144            [-1, 480, 2, 2]               0\n",
            "        Identity-145            [-1, 480, 1, 1]               0\n",
            "Conv2dStaticSamePadding-146             [-1, 20, 1, 1]           9,620\n",
            "MemoryEfficientSwish-147             [-1, 20, 1, 1]               0\n",
            "        Identity-148             [-1, 20, 1, 1]               0\n",
            "Conv2dStaticSamePadding-149            [-1, 480, 1, 1]          10,080\n",
            "        Identity-150            [-1, 480, 2, 2]               0\n",
            "Conv2dStaticSamePadding-151            [-1, 112, 2, 2]          53,760\n",
            "     BatchNorm2d-152            [-1, 112, 2, 2]             224\n",
            "     MBConvBlock-153            [-1, 112, 2, 2]               0\n",
            "        Identity-154            [-1, 112, 2, 2]               0\n",
            "Conv2dStaticSamePadding-155            [-1, 672, 2, 2]          75,264\n",
            "     BatchNorm2d-156            [-1, 672, 2, 2]           1,344\n",
            "MemoryEfficientSwish-157            [-1, 672, 2, 2]               0\n",
            "       ZeroPad2d-158            [-1, 672, 6, 6]               0\n",
            "Conv2dStaticSamePadding-159            [-1, 672, 2, 2]          16,800\n",
            "     BatchNorm2d-160            [-1, 672, 2, 2]           1,344\n",
            "MemoryEfficientSwish-161            [-1, 672, 2, 2]               0\n",
            "        Identity-162            [-1, 672, 1, 1]               0\n",
            "Conv2dStaticSamePadding-163             [-1, 28, 1, 1]          18,844\n",
            "MemoryEfficientSwish-164             [-1, 28, 1, 1]               0\n",
            "        Identity-165             [-1, 28, 1, 1]               0\n",
            "Conv2dStaticSamePadding-166            [-1, 672, 1, 1]          19,488\n",
            "        Identity-167            [-1, 672, 2, 2]               0\n",
            "Conv2dStaticSamePadding-168            [-1, 112, 2, 2]          75,264\n",
            "     BatchNorm2d-169            [-1, 112, 2, 2]             224\n",
            "     MBConvBlock-170            [-1, 112, 2, 2]               0\n",
            "        Identity-171            [-1, 112, 2, 2]               0\n",
            "Conv2dStaticSamePadding-172            [-1, 672, 2, 2]          75,264\n",
            "     BatchNorm2d-173            [-1, 672, 2, 2]           1,344\n",
            "MemoryEfficientSwish-174            [-1, 672, 2, 2]               0\n",
            "       ZeroPad2d-175            [-1, 672, 6, 6]               0\n",
            "Conv2dStaticSamePadding-176            [-1, 672, 2, 2]          16,800\n",
            "     BatchNorm2d-177            [-1, 672, 2, 2]           1,344\n",
            "MemoryEfficientSwish-178            [-1, 672, 2, 2]               0\n",
            "        Identity-179            [-1, 672, 1, 1]               0\n",
            "Conv2dStaticSamePadding-180             [-1, 28, 1, 1]          18,844\n",
            "MemoryEfficientSwish-181             [-1, 28, 1, 1]               0\n",
            "        Identity-182             [-1, 28, 1, 1]               0\n",
            "Conv2dStaticSamePadding-183            [-1, 672, 1, 1]          19,488\n",
            "        Identity-184            [-1, 672, 2, 2]               0\n",
            "Conv2dStaticSamePadding-185            [-1, 112, 2, 2]          75,264\n",
            "     BatchNorm2d-186            [-1, 112, 2, 2]             224\n",
            "     MBConvBlock-187            [-1, 112, 2, 2]               0\n",
            "        Identity-188            [-1, 112, 2, 2]               0\n",
            "Conv2dStaticSamePadding-189            [-1, 672, 2, 2]          75,264\n",
            "     BatchNorm2d-190            [-1, 672, 2, 2]           1,344\n",
            "MemoryEfficientSwish-191            [-1, 672, 2, 2]               0\n",
            "       ZeroPad2d-192            [-1, 672, 5, 5]               0\n",
            "Conv2dStaticSamePadding-193            [-1, 672, 1, 1]          16,800\n",
            "     BatchNorm2d-194            [-1, 672, 1, 1]           1,344\n",
            "MemoryEfficientSwish-195            [-1, 672, 1, 1]               0\n",
            "        Identity-196            [-1, 672, 1, 1]               0\n",
            "Conv2dStaticSamePadding-197             [-1, 28, 1, 1]          18,844\n",
            "MemoryEfficientSwish-198             [-1, 28, 1, 1]               0\n",
            "        Identity-199             [-1, 28, 1, 1]               0\n",
            "Conv2dStaticSamePadding-200            [-1, 672, 1, 1]          19,488\n",
            "        Identity-201            [-1, 672, 1, 1]               0\n",
            "Conv2dStaticSamePadding-202            [-1, 192, 1, 1]         129,024\n",
            "     BatchNorm2d-203            [-1, 192, 1, 1]             384\n",
            "     MBConvBlock-204            [-1, 192, 1, 1]               0\n",
            "        Identity-205            [-1, 192, 1, 1]               0\n",
            "Conv2dStaticSamePadding-206           [-1, 1152, 1, 1]         221,184\n",
            "     BatchNorm2d-207           [-1, 1152, 1, 1]           2,304\n",
            "MemoryEfficientSwish-208           [-1, 1152, 1, 1]               0\n",
            "       ZeroPad2d-209           [-1, 1152, 5, 5]               0\n",
            "Conv2dStaticSamePadding-210           [-1, 1152, 1, 1]          28,800\n",
            "     BatchNorm2d-211           [-1, 1152, 1, 1]           2,304\n",
            "MemoryEfficientSwish-212           [-1, 1152, 1, 1]               0\n",
            "        Identity-213           [-1, 1152, 1, 1]               0\n",
            "Conv2dStaticSamePadding-214             [-1, 48, 1, 1]          55,344\n",
            "MemoryEfficientSwish-215             [-1, 48, 1, 1]               0\n",
            "        Identity-216             [-1, 48, 1, 1]               0\n",
            "Conv2dStaticSamePadding-217           [-1, 1152, 1, 1]          56,448\n",
            "        Identity-218           [-1, 1152, 1, 1]               0\n",
            "Conv2dStaticSamePadding-219            [-1, 192, 1, 1]         221,184\n",
            "     BatchNorm2d-220            [-1, 192, 1, 1]             384\n",
            "     MBConvBlock-221            [-1, 192, 1, 1]               0\n",
            "        Identity-222            [-1, 192, 1, 1]               0\n",
            "Conv2dStaticSamePadding-223           [-1, 1152, 1, 1]         221,184\n",
            "     BatchNorm2d-224           [-1, 1152, 1, 1]           2,304\n",
            "MemoryEfficientSwish-225           [-1, 1152, 1, 1]               0\n",
            "       ZeroPad2d-226           [-1, 1152, 5, 5]               0\n",
            "Conv2dStaticSamePadding-227           [-1, 1152, 1, 1]          28,800\n",
            "     BatchNorm2d-228           [-1, 1152, 1, 1]           2,304\n",
            "MemoryEfficientSwish-229           [-1, 1152, 1, 1]               0\n",
            "        Identity-230           [-1, 1152, 1, 1]               0\n",
            "Conv2dStaticSamePadding-231             [-1, 48, 1, 1]          55,344\n",
            "MemoryEfficientSwish-232             [-1, 48, 1, 1]               0\n",
            "        Identity-233             [-1, 48, 1, 1]               0\n",
            "Conv2dStaticSamePadding-234           [-1, 1152, 1, 1]          56,448\n",
            "        Identity-235           [-1, 1152, 1, 1]               0\n",
            "Conv2dStaticSamePadding-236            [-1, 192, 1, 1]         221,184\n",
            "     BatchNorm2d-237            [-1, 192, 1, 1]             384\n",
            "     MBConvBlock-238            [-1, 192, 1, 1]               0\n",
            "        Identity-239            [-1, 192, 1, 1]               0\n",
            "Conv2dStaticSamePadding-240           [-1, 1152, 1, 1]         221,184\n",
            "     BatchNorm2d-241           [-1, 1152, 1, 1]           2,304\n",
            "MemoryEfficientSwish-242           [-1, 1152, 1, 1]               0\n",
            "       ZeroPad2d-243           [-1, 1152, 5, 5]               0\n",
            "Conv2dStaticSamePadding-244           [-1, 1152, 1, 1]          28,800\n",
            "     BatchNorm2d-245           [-1, 1152, 1, 1]           2,304\n",
            "MemoryEfficientSwish-246           [-1, 1152, 1, 1]               0\n",
            "        Identity-247           [-1, 1152, 1, 1]               0\n",
            "Conv2dStaticSamePadding-248             [-1, 48, 1, 1]          55,344\n",
            "MemoryEfficientSwish-249             [-1, 48, 1, 1]               0\n",
            "        Identity-250             [-1, 48, 1, 1]               0\n",
            "Conv2dStaticSamePadding-251           [-1, 1152, 1, 1]          56,448\n",
            "        Identity-252           [-1, 1152, 1, 1]               0\n",
            "Conv2dStaticSamePadding-253            [-1, 192, 1, 1]         221,184\n",
            "     BatchNorm2d-254            [-1, 192, 1, 1]             384\n",
            "     MBConvBlock-255            [-1, 192, 1, 1]               0\n",
            "        Identity-256            [-1, 192, 1, 1]               0\n",
            "Conv2dStaticSamePadding-257           [-1, 1152, 1, 1]         221,184\n",
            "     BatchNorm2d-258           [-1, 1152, 1, 1]           2,304\n",
            "MemoryEfficientSwish-259           [-1, 1152, 1, 1]               0\n",
            "       ZeroPad2d-260           [-1, 1152, 3, 3]               0\n",
            "Conv2dStaticSamePadding-261           [-1, 1152, 1, 1]          10,368\n",
            "     BatchNorm2d-262           [-1, 1152, 1, 1]           2,304\n",
            "MemoryEfficientSwish-263           [-1, 1152, 1, 1]               0\n",
            "        Identity-264           [-1, 1152, 1, 1]               0\n",
            "Conv2dStaticSamePadding-265             [-1, 48, 1, 1]          55,344\n",
            "MemoryEfficientSwish-266             [-1, 48, 1, 1]               0\n",
            "        Identity-267             [-1, 48, 1, 1]               0\n",
            "Conv2dStaticSamePadding-268           [-1, 1152, 1, 1]          56,448\n",
            "        Identity-269           [-1, 1152, 1, 1]               0\n",
            "Conv2dStaticSamePadding-270            [-1, 320, 1, 1]         368,640\n",
            "     BatchNorm2d-271            [-1, 320, 1, 1]             640\n",
            "     MBConvBlock-272            [-1, 320, 1, 1]               0\n",
            "        Identity-273            [-1, 320, 1, 1]               0\n",
            "Conv2dStaticSamePadding-274           [-1, 1280, 1, 1]         409,600\n",
            "     BatchNorm2d-275           [-1, 1280, 1, 1]           2,560\n",
            "MemoryEfficientSwish-276           [-1, 1280, 1, 1]               0\n",
            "AdaptiveAvgPool2d-277           [-1, 1280, 1, 1]               0\n",
            "         Dropout-278                 [-1, 1280]               0\n",
            "          Linear-279                  [-1, 100]         128,100\n",
            "================================================================\n",
            "Total params: 4,135,648\n",
            "Trainable params: 4,135,648\n",
            "Non-trainable params: 0\n",
            "----------------------------------------------------------------\n",
            "Input size (MB): 0.01\n",
            "Forward/backward pass size (MB): 5.97\n",
            "Params size (MB): 15.78\n",
            "Estimated Total Size (MB): 21.76\n",
            "----------------------------------------------------------------\n",
            "[INFO]: Epoch 1 of 50\n",
            "Training\n"
          ]
        },
        {
          "output_type": "stream",
          "name": "stderr",
          "text": [
            "\u001b[35m100%|██████████████████████████████\u001b[0m"
          ]
        },
        {
          "output_type": "stream",
          "name": "stdout",
          "text": [
            "\n",
            "Validation\n"
          ]
        },
        {
          "output_type": "stream",
          "name": "stderr",
          "text": [
            "\n",
            "\u001b[36m100%|██████████████████████████████\u001b[0m"
          ]
        },
        {
          "output_type": "stream",
          "name": "stdout",
          "text": [
            "\n",
            "Training loss: 4.70, Training acc: 1.1\n",
            "Validation loss: 4.62, Validation acc: 0.9\n",
            "Inference time: 4.45 seconds\n",
            "--------------------------------------------------\n",
            "[INFO]: Epoch 2 of 50\n",
            "Training\n"
          ]
        },
        {
          "output_type": "stream",
          "name": "stderr",
          "text": [
            "\n",
            "\u001b[35m100%|██████████████████████████████\u001b[0m"
          ]
        },
        {
          "output_type": "stream",
          "name": "stdout",
          "text": [
            "\n",
            "Validation\n"
          ]
        },
        {
          "output_type": "stream",
          "name": "stderr",
          "text": [
            "\n",
            "\u001b[36m100%|██████████████████████████████\u001b[0m"
          ]
        },
        {
          "output_type": "stream",
          "name": "stdout",
          "text": [
            "\n",
            "Training loss: 4.67, Training acc: 1.3\n",
            "Validation loss: 4.61, Validation acc: 1.3\n",
            "Inference time: 2.83 seconds\n",
            "--------------------------------------------------\n",
            "[INFO]: Epoch 3 of 50\n",
            "Training\n"
          ]
        },
        {
          "output_type": "stream",
          "name": "stderr",
          "text": [
            "\n",
            "\u001b[35m100%|██████████████████████████████\u001b[0m"
          ]
        },
        {
          "output_type": "stream",
          "name": "stdout",
          "text": [
            "\n",
            "Validation\n"
          ]
        },
        {
          "output_type": "stream",
          "name": "stderr",
          "text": [
            "\n",
            "\u001b[36m100%|██████████████████████████████\u001b[0m"
          ]
        },
        {
          "output_type": "stream",
          "name": "stdout",
          "text": [
            "\n",
            "Training loss: 4.63, Training acc: 1.6\n",
            "Validation loss: 4.57, Validation acc: 2.0\n",
            "Inference time: 3.01 seconds\n",
            "--------------------------------------------------\n",
            "[INFO]: Epoch 4 of 50\n",
            "Training\n"
          ]
        },
        {
          "output_type": "stream",
          "name": "stderr",
          "text": [
            "\n",
            "\u001b[35m100%|██████████████████████████████\u001b[0m"
          ]
        },
        {
          "output_type": "stream",
          "name": "stdout",
          "text": [
            "\n",
            "Validation\n"
          ]
        },
        {
          "output_type": "stream",
          "name": "stderr",
          "text": [
            "\n",
            "\u001b[36m100%|██████████████████████████████\u001b[0m"
          ]
        },
        {
          "output_type": "stream",
          "name": "stdout",
          "text": [
            "\n",
            "Training loss: 4.56, Training acc: 2.5\n",
            "Validation loss: 4.48, Validation acc: 3.9\n",
            "Inference time: 3.36 seconds\n",
            "--------------------------------------------------\n",
            "[INFO]: Epoch 5 of 50\n",
            "Training\n"
          ]
        },
        {
          "output_type": "stream",
          "name": "stderr",
          "text": [
            "\n",
            "\u001b[35m100%|██████████████████████████████\u001b[0m"
          ]
        },
        {
          "output_type": "stream",
          "name": "stdout",
          "text": [
            "\n",
            "Validation\n"
          ]
        },
        {
          "output_type": "stream",
          "name": "stderr",
          "text": [
            "\n",
            "\u001b[36m100%|██████████████████████████████\u001b[0m"
          ]
        },
        {
          "output_type": "stream",
          "name": "stdout",
          "text": [
            "\n",
            "Training loss: 4.44, Training acc: 4.7\n",
            "Validation loss: 4.32, Validation acc: 8.2\n",
            "Inference time: 2.94 seconds\n",
            "--------------------------------------------------\n",
            "[INFO]: Epoch 6 of 50\n",
            "Training\n"
          ]
        },
        {
          "output_type": "stream",
          "name": "stderr",
          "text": [
            "\n",
            "\u001b[35m100%|██████████████████████████████\u001b[0m"
          ]
        },
        {
          "output_type": "stream",
          "name": "stdout",
          "text": [
            "\n",
            "Validation\n"
          ]
        },
        {
          "output_type": "stream",
          "name": "stderr",
          "text": [
            "\n",
            "\u001b[36m100%|██████████████████████████████\u001b[0m"
          ]
        },
        {
          "output_type": "stream",
          "name": "stdout",
          "text": [
            "\n",
            "Training loss: 4.23, Training acc: 8.9\n",
            "Validation loss: 4.04, Validation acc: 13.9\n",
            "Inference time: 4.24 seconds\n",
            "--------------------------------------------------\n",
            "[INFO]: Epoch 7 of 50\n",
            "Training\n"
          ]
        },
        {
          "output_type": "stream",
          "name": "stderr",
          "text": [
            "\n",
            "\u001b[35m100%|██████████████████████████████\u001b[0m"
          ]
        },
        {
          "output_type": "stream",
          "name": "stdout",
          "text": [
            "\n",
            "Validation\n"
          ]
        },
        {
          "output_type": "stream",
          "name": "stderr",
          "text": [
            "\n",
            "\u001b[36m100%|██████████████████████████████\u001b[0m"
          ]
        },
        {
          "output_type": "stream",
          "name": "stdout",
          "text": [
            "\n",
            "Training loss: 3.88, Training acc: 15.0\n",
            "Validation loss: 3.65, Validation acc: 20.4\n",
            "Inference time: 2.89 seconds\n",
            "--------------------------------------------------\n",
            "[INFO]: Epoch 8 of 50\n",
            "Training\n"
          ]
        },
        {
          "output_type": "stream",
          "name": "stderr",
          "text": [
            "\n",
            "\u001b[35m100%|██████████████████████████████\u001b[0m"
          ]
        },
        {
          "output_type": "stream",
          "name": "stdout",
          "text": [
            "\n",
            "Validation\n"
          ]
        },
        {
          "output_type": "stream",
          "name": "stderr",
          "text": [
            "\n",
            "\u001b[36m100%|██████████████████████████████\u001b[0m"
          ]
        },
        {
          "output_type": "stream",
          "name": "stdout",
          "text": [
            "\n",
            "Training loss: 3.47, Training acc: 21.6\n",
            "Validation loss: 3.27, Validation acc: 26.7\n",
            "Inference time: 4.39 seconds\n",
            "--------------------------------------------------\n",
            "[INFO]: Epoch 9 of 50\n",
            "Training\n"
          ]
        },
        {
          "output_type": "stream",
          "name": "stderr",
          "text": [
            "\n",
            "\u001b[35m100%|██████████████████████████████\u001b[0m"
          ]
        },
        {
          "output_type": "stream",
          "name": "stdout",
          "text": [
            "\n",
            "Validation\n"
          ]
        },
        {
          "output_type": "stream",
          "name": "stderr",
          "text": [
            "\n",
            "\u001b[36m100%|██████████████████████████████\u001b[0m"
          ]
        },
        {
          "output_type": "stream",
          "name": "stdout",
          "text": [
            "\n",
            "Training loss: 3.04, Training acc: 28.1\n",
            "Validation loss: 2.99, Validation acc: 32.0\n",
            "Inference time: 2.83 seconds\n",
            "--------------------------------------------------\n",
            "[INFO]: Epoch 10 of 50\n",
            "Training\n"
          ]
        },
        {
          "output_type": "stream",
          "name": "stderr",
          "text": [
            "\n",
            "\u001b[35m100%|██████████████████████████████\u001b[0m"
          ]
        },
        {
          "output_type": "stream",
          "name": "stdout",
          "text": [
            "\n",
            "Validation\n"
          ]
        },
        {
          "output_type": "stream",
          "name": "stderr",
          "text": [
            "\n",
            "\u001b[36m100%|██████████████████████████████\u001b[0m"
          ]
        },
        {
          "output_type": "stream",
          "name": "stdout",
          "text": [
            "\n",
            "Training loss: 2.67, Training acc: 34.2\n",
            "Validation loss: 2.91, Validation acc: 35.9\n",
            "Inference time: 3.52 seconds\n",
            "--------------------------------------------------\n",
            "[INFO]: Epoch 11 of 50\n",
            "Training\n"
          ]
        },
        {
          "output_type": "stream",
          "name": "stderr",
          "text": [
            "\n",
            "\u001b[35m100%|██████████████████████████████\u001b[0m"
          ]
        },
        {
          "output_type": "stream",
          "name": "stdout",
          "text": [
            "\n",
            "Validation\n"
          ]
        },
        {
          "output_type": "stream",
          "name": "stderr",
          "text": [
            "\n",
            "\u001b[36m100%|██████████████████████████████\u001b[0m"
          ]
        },
        {
          "output_type": "stream",
          "name": "stdout",
          "text": [
            "\n",
            "Training loss: 2.39, Training acc: 38.7\n",
            "Validation loss: 3.05, Validation acc: 37.8\n",
            "Inference time: 2.93 seconds\n",
            "--------------------------------------------------\n",
            "[INFO]: Epoch 12 of 50\n",
            "Training\n"
          ]
        },
        {
          "output_type": "stream",
          "name": "stderr",
          "text": [
            "\n",
            "\u001b[35m100%|██████████████████████████████\u001b[0m"
          ]
        },
        {
          "output_type": "stream",
          "name": "stdout",
          "text": [
            "\n",
            "Validation\n"
          ]
        },
        {
          "output_type": "stream",
          "name": "stderr",
          "text": [
            "\n",
            "\u001b[36m100%|██████████████████████████████\u001b[0m"
          ]
        },
        {
          "output_type": "stream",
          "name": "stdout",
          "text": [
            "\n",
            "Training loss: 2.18, Training acc: 42.9\n",
            "Validation loss: 3.25, Validation acc: 37.6\n",
            "Inference time: 2.81 seconds\n",
            "--------------------------------------------------\n",
            "[INFO]: Epoch 13 of 50\n",
            "Training\n"
          ]
        },
        {
          "output_type": "stream",
          "name": "stderr",
          "text": [
            "\n",
            "\u001b[35m100%|██████████████████████████████\u001b[0m"
          ]
        },
        {
          "output_type": "stream",
          "name": "stdout",
          "text": [
            "\n",
            "Validation\n"
          ]
        },
        {
          "output_type": "stream",
          "name": "stderr",
          "text": [
            "\n",
            "\u001b[36m100%|██████████████████████████████\u001b[0m"
          ]
        },
        {
          "output_type": "stream",
          "name": "stdout",
          "text": [
            "\n",
            "Training loss: 2.02, Training acc: 46.2\n",
            "Validation loss: 3.46, Validation acc: 36.9\n",
            "Inference time: 3.00 seconds\n",
            "--------------------------------------------------\n",
            "[INFO]: Epoch 14 of 50\n",
            "Training\n"
          ]
        },
        {
          "output_type": "stream",
          "name": "stderr",
          "text": [
            "\n",
            "\u001b[35m100%|██████████████████████████████\u001b[0m"
          ]
        },
        {
          "output_type": "stream",
          "name": "stdout",
          "text": [
            "\n",
            "Validation\n"
          ]
        },
        {
          "output_type": "stream",
          "name": "stderr",
          "text": [
            "\n",
            "\u001b[36m100%|██████████████████████████████\u001b[0m"
          ]
        },
        {
          "output_type": "stream",
          "name": "stdout",
          "text": [
            "\n",
            "Training loss: 1.90, Training acc: 49.1\n",
            "Validation loss: 3.52, Validation acc: 35.9\n",
            "Inference time: 2.84 seconds\n",
            "--------------------------------------------------\n",
            "[INFO]: Epoch 15 of 50\n",
            "Training\n"
          ]
        },
        {
          "output_type": "stream",
          "name": "stderr",
          "text": [
            "\n",
            "\u001b[35m100%|██████████████████████████████\u001b[0m"
          ]
        },
        {
          "output_type": "stream",
          "name": "stdout",
          "text": [
            "\n",
            "Validation\n"
          ]
        },
        {
          "output_type": "stream",
          "name": "stderr",
          "text": [
            "\n",
            "\u001b[36m100%|██████████████████████████████\u001b[0m"
          ]
        },
        {
          "output_type": "stream",
          "name": "stdout",
          "text": [
            "\n",
            "Training loss: 1.80, Training acc: 51.3\n",
            "Validation loss: 3.56, Validation acc: 35.4\n",
            "Inference time: 3.37 seconds\n",
            "--------------------------------------------------\n",
            "[INFO]: Epoch 16 of 50\n",
            "Training\n"
          ]
        },
        {
          "output_type": "stream",
          "name": "stderr",
          "text": [
            "\n",
            "\u001b[35m100%|██████████████████████████████\u001b[0m"
          ]
        },
        {
          "output_type": "stream",
          "name": "stdout",
          "text": [
            "\n",
            "Validation\n"
          ]
        },
        {
          "output_type": "stream",
          "name": "stderr",
          "text": [
            "\n",
            "\u001b[36m100%|██████████████████████████████\u001b[0m\n"
          ]
        },
        {
          "output_type": "stream",
          "name": "stdout",
          "text": [
            "\n",
            "Training loss: 1.71, Training acc: 53.5\n",
            "Validation loss: 3.47, Validation acc: 35.7\n",
            "Inference time: 2.92 seconds\n",
            "--------------------------------------------------\n",
            "Early stopping at epoch 16 as validation accuracy did not improve.\n",
            "Highest validation accuracy achieved: 37.8 at epoch 11\n",
            "Pretrained EfficientNetB0 - CIFAR100\n"
          ]
        },
        {
          "output_type": "display_data",
          "data": {
            "text/plain": [
              "<Figure size 1000x700 with 1 Axes>"
            ],
            "image/png": "[encoded data removed]"
          },
          "metadata": {}
        },
        {
          "output_type": "display_data",
          "data": {
            "text/plain": [
              "<Figure size 1000x700 with 1 Axes>"
            ],
            "image/png": "[encoded data removed]"
          },
          "metadata": {}
        }
      ]
    },
    {
      "cell_type": "markdown",
      "source": [
        "####Save Model"
      ],
      "metadata": {
        "id": "mqk2maWk5kif"
      }
    },
    {
      "cell_type": "code",
      "source": [
        "# ONLY RUN THIS BLOCK IF DOING WEIGHT PRE-TRAINING\n",
        "from google.colab import drive\n",
        "drive.mount('/content/drive')\n",
        "save_path = '/content/drive/My Drive/Colab Notebooks/Enet_Adam_Scheduler.pth'\n",
        "torch.save(model.state_dict(), save_path)"
      ],
      "metadata": {
        "id": "owJmQQeHsnrF",
        "colab": {
          "base_uri": "https://localhost:8080/"
        },
        "outputId": "5f5806da-bc81-4c59-e407-e13f219dbc1f"
      },
      "execution_count": 13,
      "outputs": [
        {
          "output_type": "stream",
          "name": "stdout",
          "text": [
            "Drive already mounted at /content/drive; to attempt to forcibly remount, call drive.mount(\"/content/drive\", force_remount=True).\n"
          ]
        }
      ]
    }
  ]
}