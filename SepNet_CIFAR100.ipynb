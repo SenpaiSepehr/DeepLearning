{
  "nbformat": 4,
  "nbformat_minor": 0,
  "metadata": {
    "colab": {
      "provenance": [],
      "gpuType": "T4",
      "collapsed_sections": [
        "OnWsqHq7hG2I",
        "PYlv14YThQqD",
        "J0xuPg40hb4f",
        "sUXaZVwfhmNC",
        "rUyv1zzbicwU",
        "wCPdrHp4UekB"
      ],
      "include_colab_link": true
    },
    "kernelspec": {
      "name": "python3",
      "display_name": "Python 3"
    },
    "language_info": {
      "name": "python"
    },
    "accelerator": "GPU"
  },
  "cells": [
    {
      "cell_type": "markdown",
      "metadata": {
        "id": "view-in-github",
        "colab_type": "text"
      },
      "source": [
        "<a href=\"https://colab.research.google.com/github/SenpaiSepehr/DeepLearning/blob/main/SepNet_CIFAR100.ipynb\" target=\"_parent\"><img src=\"https://colab.research.google.com/assets/colab-badge.svg\" alt=\"Open In Colab\"/></a>"
      ]
    },
    {
      "cell_type": "markdown",
      "source": [
        "####Library & Dependencies"
      ],
      "metadata": {
        "id": "OnWsqHq7hG2I"
      }
    },
    {
      "cell_type": "code",
      "execution_count": 1,
      "metadata": {
        "id": "vPyTCZckffaR"
      },
      "outputs": [],
      "source": [
        "import os\n",
        "import numpy as np\n",
        "import pandas as pd\n",
        "import matplotlib.pyplot as plt\n",
        "\n",
        "import torch\n",
        "import torchvision\n",
        "import torch.nn as nn\n",
        "import torch.optim as optim\n",
        "import torch.nn.functional as F\n",
        "import torchvision.models as models\n",
        "import torchvision.transforms as tt\n",
        "from torchvision.transforms import ToTensor\n",
        "from torch.utils.data import DataLoader, Dataset\n",
        "from torchvision import datasets, transforms, models\n",
        "\n",
        "from torchvision.datasets import CIFAR100\n",
        "from tqdm import tqdm"
      ]
    },
    {
      "cell_type": "markdown",
      "source": [
        "####DataLoader"
      ],
      "metadata": {
        "id": "PYlv14YThQqD"
      }
    },
    {
      "cell_type": "code",
      "source": [
        "stats = ((0.5,0.5,0.5),(0.5,0.5,0.5))\n",
        "#transforming training set.\n",
        "train_transform = tt.Compose([\n",
        "    tt.RandomHorizontalFlip(),\n",
        "    tt.RandomCrop(32, padding=4, padding_mode=\"reflect\"),\n",
        "    #tt.RandomRotation(degrees=15),\n",
        "    #tt.RandomResizedCrop(size=32, scale=(0.8,1.0), ratio=(0.8,1.2)),\n",
        "    tt.ToTensor(),        # 3 channels: RGB, tensor.size=[3*32*32]\n",
        "    tt.Normalize(*stats)  # to ensure gradients don't diverge\n",
        "])\n",
        "#transforming test set\n",
        "val_transform = tt.Compose([\n",
        "    tt.ToTensor(),\n",
        "    tt.Normalize(*stats) \n",
        "])\n",
        "\n",
        "train_data = CIFAR100(download=True, root=\"./data\", transform=train_transform)\n",
        "val_data = CIFAR100(root=\"./data\", train=False, transform=val_transform)\n",
        "\n",
        "def load_data(batch_size):\n",
        "    train_loader = DataLoader(train_data,batch_size=batch_size, num_workers=2,\n",
        "                          pin_memory=True, shuffle=True)\n",
        "    \n",
        "    val_loader = DataLoader(val_data, batch_size=batch_size, num_workers=2,\n",
        "                        pin_memory=True)\n",
        "    \n",
        "    return train_loader, val_loader"
      ],
      "metadata": {
        "id": "NBhF1ZHggbWk",
        "colab": {
          "base_uri": "https://localhost:8080/"
        },
        "outputId": "b8d5d97b-8b91-453c-b024-ddb265444c0f"
      },
      "execution_count": 2,
      "outputs": [
        {
          "output_type": "stream",
          "name": "stdout",
          "text": [
            "Files already downloaded and verified\n"
          ]
        }
      ]
    },
    {
      "cell_type": "markdown",
      "source": [
        "####Resnet18 <font color='red'>**Scratch Model**</font>"
      ],
      "metadata": {
        "id": "J0xuPg40hb4f"
      }
    },
    {
      "cell_type": "code",
      "source": [
        "from torch import Tensor\n",
        "from typing import Type\n",
        "\n",
        "class BasicBlock (nn.Module):\n",
        "  def __init__(self, in_channels, out_channels, stride=1, expansion=1, downsample=None):\n",
        "    super(BasicBlock, self).__init__()\n",
        "    self.expansion = expansion\n",
        "    self.downsample = downsample\n",
        "    self.conv1 = nn.Conv2d(in_channels, out_channels,kernel_size=3,stride=stride,\n",
        "                           padding=1,bias=False)\n",
        "    self.bn1 = nn.BatchNorm2d(out_channels)\n",
        "    self.relu = nn.ReLU(inplace=True)\n",
        "    self.conv2 = nn.Conv2d(out_channels,out_channels*self.expansion,\n",
        "                           kernel_size=3, padding=1, bias=False)\n",
        "    self.bn2 = nn.BatchNorm2d(out_channels*self.expansion)\n",
        "\n",
        "  def forward(self, x):\n",
        "    identity = x\n",
        "    out = self.conv1(x)\n",
        "    out = self.bn1(out)\n",
        "    out = self.relu(out)\n",
        "    out = self.conv2(out)\n",
        "    out = self.bn2(out)\n",
        "    \n",
        "    if self.downsample is not None: identity = self.downsample(x)\n",
        "    out += identity\n",
        "    out = self.relu(out)\n",
        "    return out\n",
        "\n",
        "class ResNet18(nn.Module):\n",
        "  def __init__(self, img_channels, num_layers,block,num_classes=1000):\n",
        "    super(ResNet18,self).__init__()\n",
        "    if num_layers == 18:\n",
        "      layers = [2,2,2,2]\n",
        "      self.expansion = 1\n",
        "    \n",
        "    self.in_channels = 64\n",
        "    self.conv1 = nn.Conv2d(in_channels = img_channels, \n",
        "                           out_channels=self.in_channels,kernel_size=7,stride=2,\n",
        "                           padding=3,bias=False)\n",
        "    self.bn1 = nn.BatchNorm2d(self.in_channels)\n",
        "    self.relu = nn.ReLU(inplace=True)\n",
        "    self.maxpool = nn.MaxPool2d(kernel_size=3, stride=2, padding=1)\n",
        "\n",
        "    self.layer1 = self._make_layer(block,64,layers[0])\n",
        "    self.layer2 = self._make_layer(block,128,layers[1], stride=2)\n",
        "    self.layer3 = self._make_layer(block,256,layers[2], stride=2)\n",
        "    self.layer4 = self._make_layer(block,512,layers[3], stride=2)\n",
        "\n",
        "    self.avgpool = nn.AdaptiveAvgPool2d((1,1))\n",
        "    self.fc = nn.Linear(512*self.expansion,num_classes)\n",
        "\n",
        "  def _make_layer(self,block,out_channels,blocks,stride=1) -> nn.Sequential:\n",
        "    downsample = None\n",
        "    if stride != 1:\n",
        "      downsample = nn.Sequential(nn.Conv2d(self.in_channels,\n",
        "                                           out_channels*self.expansion,\n",
        "                                           kernel_size=1,stride=stride,bias=False)\n",
        "      ,nn.BatchNorm2d(out_channels*self.expansion),)\n",
        "    layers = []\n",
        "    layers.append(block(self.in_channels, out_channels, stride,self.expansion,\n",
        "                        downsample))\n",
        "    self.in_channels = out_channels*self.expansion\n",
        "\n",
        "    for i in range(1, blocks):\n",
        "      layers.append(block(self.in_channels, out_channels, expansion=self.expansion))\n",
        "    return nn.Sequential(*layers)\n",
        "  \n",
        "  def forward(self, x):\n",
        "    x = self.conv1(x)\n",
        "    x = self.bn1(x)\n",
        "    x = self.relu(x)\n",
        "    x = self.maxpool(x)\n",
        "\n",
        "    x = self.layer1(x)\n",
        "    x = self.layer2(x)\n",
        "    x = self.layer3(x)\n",
        "    x = self.layer4(x)\n",
        "    #print('Dimensions of the last convolutional feature map: ', x.shape)\n",
        "\n",
        "    x = self.avgpool(x)\n",
        "    x = torch.flatten(x,1)\n",
        "    x = self.fc(x)\n",
        "\n",
        "    return x"
      ],
      "metadata": {
        "id": "VQKVuwQ8gque"
      },
      "execution_count": 3,
      "outputs": []
    },
    {
      "cell_type": "markdown",
      "source": [
        "####Plot <font color='red'>**Matlib**</font>"
      ],
      "metadata": {
        "id": "sUXaZVwfhmNC"
      }
    },
    {
      "cell_type": "code",
      "source": [
        "def save_plots(train_acc, valid_acc, train_loss, valid_loss):\n",
        "    \"\"\"\n",
        "    Function to save the loss and accuracy plots to disk.\n",
        "    \"\"\"\n",
        "    # Accuracy plots.\n",
        "    plt.figure(figsize=(10, 7))\n",
        "    plt.plot(\n",
        "        train_acc, color='tab:blue', linestyle='-', \n",
        "        label='train accuracy'\n",
        "    )\n",
        "    plt.plot(\n",
        "        valid_acc, color='tab:red', linestyle='-', \n",
        "        label='validataion accuracy'\n",
        "    )\n",
        "    plt.xlabel('Epochs')\n",
        "    plt.ylabel('Accuracy')\n",
        "    plt.legend()\n",
        "    \n",
        "    # Loss plots.\n",
        "    plt.figure(figsize=(10, 7))\n",
        "    plt.plot(\n",
        "        train_loss, color='tab:blue', linestyle='-', \n",
        "        label='train loss'\n",
        "    )\n",
        "    plt.plot(\n",
        "        valid_loss, color='tab:red', linestyle='-', \n",
        "        label='validataion loss'\n",
        "    )\n",
        "    plt.xlabel('Epochs')\n",
        "    plt.ylabel('Loss')\n",
        "    plt.legend()"
      ],
      "metadata": {
        "id": "olpoFdA6gu8M"
      },
      "execution_count": 4,
      "outputs": []
    },
    {
      "cell_type": "markdown",
      "source": [
        "####Training Module"
      ],
      "metadata": {
        "id": "0d_JxyidiVcr"
      }
    },
    {
      "cell_type": "code",
      "source": [
        "def train(model, trainloader, optimizer, criterion, device,\n",
        "          scheduler, weight_decay):\n",
        "    model.train()\n",
        "    print('Training')\n",
        "    train_running_loss = 0.0\n",
        "    train_running_correct = 0\n",
        "    counter = 0\n",
        "\n",
        "    for i, data in tqdm(enumerate(trainloader), total=len(trainloader),\n",
        "                        ncols=35, bar_format='\\033[35m{l_bar}{bar}\\033[0m'):\n",
        "        counter += 1\n",
        "        image, labels = data\n",
        "        image = image.to(device)\n",
        "        labels = labels.to(device)\n",
        "        optimizer.zero_grad()\n",
        "\n",
        "        # Forward pass\n",
        "        outputs = model(image)\n",
        "\n",
        "        # Calculate the loss\n",
        "        loss = criterion(outputs, labels)\n",
        "        #L2 regularization\n",
        "        # l2_reg = torch.tensor(0.).to(device)\n",
        "        # for param in model.parameters():\n",
        "        #   l2_reg += torch.norm(param)\n",
        "        # loss += weight_decay * l2_reg\n",
        "        # train_running_loss += loss.item()\n",
        "\n",
        "        # Calculate the accuracy\n",
        "        _, preds = torch.max(outputs.data, 1)\n",
        "        train_running_correct += (preds == labels).sum().item()\n",
        "\n",
        "        # Backpropagation\n",
        "        loss.backward()\n",
        "        \n",
        "        # Update the weights\n",
        "        optimizer.step()\n",
        "\n",
        "        # Update the learning-rate\n",
        "        scheduler.step()\n",
        "    \n",
        "    # Loss and accuracy for the complete epoch\n",
        "    epoch_loss = train_running_loss / counter\n",
        "    epoch_acc = 100. * (train_running_correct / len(trainloader.dataset))\n",
        "    return epoch_loss, epoch_acc"
      ],
      "metadata": {
        "id": "UeS1bB5Pgybh"
      },
      "execution_count": 5,
      "outputs": []
    },
    {
      "cell_type": "markdown",
      "source": [
        "####Test Module"
      ],
      "metadata": {
        "id": "Du1MOayNiY84"
      }
    },
    {
      "cell_type": "code",
      "source": [
        "def validate(model, testloader, criterion, device):\n",
        "    model.eval()\n",
        "    print('\\n'+'Validation')\n",
        "    valid_running_loss = 0.0\n",
        "    valid_running_correct = 0\n",
        "    counter = 0\n",
        "    with torch.no_grad():\n",
        "        for i, data in tqdm(enumerate(testloader), total=len(testloader),\n",
        "                            ncols=35, bar_format='\\033[36m{l_bar}{bar}\\033[0m'):\n",
        "            counter += 1\n",
        "            image, labels = data\n",
        "            image = image.to(device)\n",
        "            labels = labels.to(device)\n",
        "\n",
        "            # Forward pass.\n",
        "            outputs = model(image)\n",
        "\n",
        "            # Calculate the loss.\n",
        "            loss = criterion(outputs, labels)\n",
        "            valid_running_loss += loss.item()\n",
        "            \n",
        "            # Calculate the accuracy.\n",
        "            _, preds = torch.max(outputs.data, 1)\n",
        "            valid_running_correct += (preds == labels).sum().item()\n",
        "\n",
        "    # Loss and accuracy for the complete epoch.\n",
        "    epoch_loss = valid_running_loss / counter\n",
        "    epoch_acc = 100. * (valid_running_correct / len(testloader.dataset))\n",
        "    return epoch_loss, epoch_acc"
      ],
      "metadata": {
        "id": "r6Kacu1Dg3cE"
      },
      "execution_count": 6,
      "outputs": []
    },
    {
      "cell_type": "markdown",
      "source": [
        "####Seed"
      ],
      "metadata": {
        "id": "rUyv1zzbicwU"
      }
    },
    {
      "cell_type": "code",
      "source": [
        "import random\n",
        "# Set seed.\n",
        "seed = 42\n",
        "torch.manual_seed(seed)\n",
        "torch.cuda.manual_seed(seed)\n",
        "torch.backends.cudnn.deterministic = True\n",
        "torch.backends.cudnn.benchmark = True\n",
        "np.random.seed(seed)\n",
        "random.seed(seed)"
      ],
      "metadata": {
        "id": "V1qbPXpNg6GG"
      },
      "execution_count": 7,
      "outputs": []
    },
    {
      "cell_type": "markdown",
      "source": [
        "####Choosing Model <font color='red'>**ResNet18** </font><font color='green'>**EfficientNet-B0**</font>"
      ],
      "metadata": {
        "id": "wCPdrHp4UekB"
      }
    },
    {
      "cell_type": "code",
      "source": [
        "!pip install efficientnet_pytorch\n",
        "from efficientnet_pytorch import EfficientNet"
      ],
      "metadata": {
        "colab": {
          "base_uri": "https://localhost:8080/"
        },
        "id": "mQXOFCgkc9sq",
        "outputId": "5a72f8ef-9aa4-4fe8-f19c-26bea889ac7c"
      },
      "execution_count": 8,
      "outputs": [
        {
          "output_type": "stream",
          "name": "stdout",
          "text": [
            "Looking in indexes: https://pypi.org/simple, https://us-python.pkg.dev/colab-wheels/public/simple/\n",
            "Requirement already satisfied: efficientnet_pytorch in /usr/local/lib/python3.10/dist-packages (0.7.1)\n",
            "Requirement already satisfied: torch in /usr/local/lib/python3.10/dist-packages (from efficientnet_pytorch) (2.0.1+cu118)\n",
            "Requirement already satisfied: filelock in /usr/local/lib/python3.10/dist-packages (from torch->efficientnet_pytorch) (3.12.0)\n",
            "Requirement already satisfied: typing-extensions in /usr/local/lib/python3.10/dist-packages (from torch->efficientnet_pytorch) (4.5.0)\n",
            "Requirement already satisfied: sympy in /usr/local/lib/python3.10/dist-packages (from torch->efficientnet_pytorch) (1.11.1)\n",
            "Requirement already satisfied: networkx in /usr/local/lib/python3.10/dist-packages (from torch->efficientnet_pytorch) (3.1)\n",
            "Requirement already satisfied: jinja2 in /usr/local/lib/python3.10/dist-packages (from torch->efficientnet_pytorch) (3.1.2)\n",
            "Requirement already satisfied: triton==2.0.0 in /usr/local/lib/python3.10/dist-packages (from torch->efficientnet_pytorch) (2.0.0)\n",
            "Requirement already satisfied: cmake in /usr/local/lib/python3.10/dist-packages (from triton==2.0.0->torch->efficientnet_pytorch) (3.25.2)\n",
            "Requirement already satisfied: lit in /usr/local/lib/python3.10/dist-packages (from triton==2.0.0->torch->efficientnet_pytorch) (16.0.5)\n",
            "Requirement already satisfied: MarkupSafe>=2.0 in /usr/local/lib/python3.10/dist-packages (from jinja2->torch->efficientnet_pytorch) (2.1.2)\n",
            "Requirement already satisfied: mpmath>=0.19 in /usr/local/lib/python3.10/dist-packages (from sympy->torch->efficientnet_pytorch) (1.3.0)\n"
          ]
        }
      ]
    },
    {
      "cell_type": "code",
      "source": [
        "args = {\n",
        "    'model': 'pretrainedEfficientNetB0'\n",
        "}\n",
        "\n",
        "device = torch.device('cuda' if torch.cuda.is_available() else 'cpu')\n",
        "\n",
        "\n",
        "if args['model'] == 'ResNet18':\n",
        "    print('[INFO]: Initiating ResNet18')\n",
        "    model = ResNet18(img_channels=3, num_layers=18,\n",
        "                     block=BasicBlock, num_classes=100).to(device)\n",
        "    plot_name = 'ResNet18 - CIFAR100'\n",
        "\n",
        "if args['model'] == 'EfficientNetB0':\n",
        "    print('[INFO]: Initiating EfficientnetB0')\n",
        "    model = models.efficientnet_b0(num_classes=100).to(device)\n",
        "    plot_name = 'EfficientNetB0 - CIFAR100'\n",
        "\n",
        "if args['model'] == 'pretrainedEfficientNetB0':\n",
        "    print('[INFO]: Initiating pretrained EfficientnetB0')\n",
        "    model = EfficientNet.from_pretrained('efficientnet-b0', num_classes=100).to(device)\n",
        "    plot_name = 'Pretrained EfficientNetB0 - CIFAR100'"
      ],
      "metadata": {
        "id": "zwrcKAElUPn1",
        "colab": {
          "base_uri": "https://localhost:8080/"
        },
        "outputId": "dbbb9c1f-1263-4029-81cc-128fb7cc532a"
      },
      "execution_count": 9,
      "outputs": [
        {
          "output_type": "stream",
          "name": "stdout",
          "text": [
            "[INFO]: Initiating ResNet18\n"
          ]
        }
      ]
    },
    {
      "cell_type": "markdown",
      "source": [
        "####Hyper-Param Tuning <font color='red'>**Optuna**</font>\n",
        "\n"
      ],
      "metadata": {
        "id": "NjfAOxfZiiTv"
      }
    },
    {
      "cell_type": "code",
      "source": [
        "# !pip install optuna\n",
        "# !pip install tensorboard\n",
        "# from torch.utils.tensorboard import SummaryWriter\n",
        "# import optuna\n",
        "# import time\n",
        "\n",
        "# %load_ext tensorboard\n",
        "# writer = SummaryWriter(log_dir='logs')\n",
        "\n",
        "# criterion = nn.CrossEntropyLoss()   # Not tuning\n",
        "\n",
        "# batch_size = 256\n",
        "# train_loader, val_loader = load_data(batch_size)\n",
        "\n",
        "# epochs = 20                         \n",
        "# trial_num = 0\n",
        "\n",
        "# def objective(trial):\n",
        "#     global trial_num\n",
        "#     # Define hyperparameters\n",
        "#     learning_rate = trial.suggest_float('learning_rate', 1e-5, 1e-2, log=True)\n",
        "#     weight_decay = trial.suggest_float('weight_decay', 0.0, 0.1)\n",
        "\n",
        "#     # Update optimizer and scheduler\n",
        "#     optimizer = optim.RMSprop(model.parameters(), lr=learning_rate,\n",
        "#                           weight_decay=weight_decay, momentum=0.9)\n",
        "#     scheduler = torch.optim.lr_scheduler.OneCycleLR(optimizer, max_lr=0.01, epochs=epochs,\n",
        "#                                                    steps_per_epoch=len(train_loader))\n",
        "    \n",
        "#     highest_acc = 0.0\n",
        "#     # Train and evaluate the model\n",
        "#     for epoch in range(epochs):\n",
        "\n",
        "#       print(f\"\\n -----[ Trial: {trial_num+1} <> Epoch: {epoch+1} ]-----\")\n",
        "\n",
        "#       train_loss, train_acc = train(model, train_loader, optimizer, criterion, device,\n",
        "#                                     weight_decay, scheduler)\n",
        "#       writer.add_scalar('Loss/train', train_loss,trial_num)\n",
        "#       writer.add_scalar('Accuracy/train', train_acc,trial_num)\n",
        "\n",
        "#       start_time = time.time()\n",
        "#       valid_loss, valid_acc = validate(model, val_loader, criterion, device)\n",
        "#       writer.add_scalar('Loss/test', valid_loss, trial_num)\n",
        "#       writer.add_scalar('Accuracy/test', valid_acc, trial_num) \n",
        "#       end_time = time.time()\n",
        "#       inference = end_time - start_time\n",
        "\n",
        "#       print(f\"\\nTraining loss: {train_loss:.2f}, Training acc: {train_acc:.1f}\")\n",
        "#       print(f\"Validation loss: {valid_loss:.2f}, Validation acc: {valid_acc:.1f}\")\n",
        "#       print(f\"Inference time: {inference:.2f} seconds\")\n",
        "\n",
        "#       # Finding the most accurate iteration\n",
        "#       if valid_acc > highest_acc:\n",
        "#         highest_acc = valid_acc\n",
        "#         best_epoch = epoch + 1\n",
        "\n",
        "#       if epoch == epochs-1:\n",
        "#         print(f\"Highest validation accuracy achieved: {highest_acc:.1f} at epoch {best_epoch}\")\n",
        "#         highest_acc = 0\n",
        "\n",
        "#     trial_num += 1\n",
        "\n",
        "#     # Report the objective value(Accuracy) to Optuna\n",
        "#     return valid_acc\n",
        "\n",
        "# # Set up the Optuna study\n",
        "# study = optuna.create_study(direction='maximize')\n",
        "# study.optimize(objective, n_trials=4)\n",
        "\n",
        "# # Access the best hyperparameters and objective value\n",
        "# best_params = study.best_params\n",
        "# best_value = study.best_value\n",
        "# writer.close()\n",
        "# print(\"Best hyperparameters:\", best_params)\n",
        "# print(\"Best objective value:\", best_value)\n",
        "\n",
        "# %tensorboard --logdir logs\n"
      ],
      "metadata": {
        "id": "cgZsU_08U6lQ"
      },
      "execution_count": 10,
      "outputs": []
    },
    {
      "cell_type": "markdown",
      "source": [
        "####Loading Model <font color='red'>**Pre-trained Weights**</font>"
      ],
      "metadata": {
        "id": "Bn9mFSGDZNdE"
      }
    },
    {
      "cell_type": "code",
      "source": [
        "#Load Pre-Trained Model\n",
        "# from google.colab import drive\n",
        "# drive.mount('/content/drive')\n",
        "\n",
        "# if args['model'] == 'ResNet18':\n",
        "#   model = ResNet18(img_channels=3, num_layers=18,\n",
        "#                    block=BasicBlock, num_classes=100).to(device)\n",
        "#   model.load_state_dict(torch.load(\n",
        "#       '/content/drive/My Drive/Colab Notebooks/Resnet18.pth'))\n",
        "  \n",
        "# if args['model'] == 'EfficientNetB0':\n",
        "#   model = EfficientNet.from_pretrained(\n",
        "#       'efficientnet-b0', num_classes=100).to(device)\n",
        "#   model.load_state_dict(torch.load(\n",
        "#       '/content/drive/My Drive/Colab Notebooks/EfficientNetB0.pth'))"
      ],
      "metadata": {
        "id": "CuohMU-3zGGy"
      },
      "execution_count": 11,
      "outputs": []
    },
    {
      "cell_type": "markdown",
      "source": [
        "####Execution"
      ],
      "metadata": {
        "id": "EdMETEq9yZh0"
      }
    },
    {
      "cell_type": "code",
      "source": [
        "# ------------------------  OLD CODE ------------------------------\n",
        "!pip install torchsummary\n",
        "from torchsummary import summary\n",
        "\n",
        "input_shape = (3, 32, 32)  # CIFAR100 \n",
        "\n",
        "epochs = 50\n",
        "batch_size = 256\n",
        "\n",
        "# EfficientNet-B0\n",
        "weight_decay = 0.013     \n",
        "learning_rate = 1.5e-4  \n",
        "\n",
        "# # ResNet18\n",
        "# weight_decay = 0.022\n",
        "# learning_rate = 9e-5\n",
        "\n",
        "train_loader, val_loader = load_data(batch_size)\n",
        "\n",
        "optimizer = optim.SGD(model.parameters(), lr=learning_rate, momentum=0.9,\n",
        "                      weight_decay=weight_decay)\n",
        "criterion = nn.CrossEntropyLoss()\n",
        "scheduler = torch.optim.lr_scheduler.OneCycleLR(optimizer, max_lr=1e-3,epochs=epochs,\n",
        "                                                steps_per_epoch=len(train_loader))\n",
        "\n",
        "summary(model,input_shape)\n",
        "\n",
        "import time\n",
        "\n",
        "train_loss, valid_loss = [],[]\n",
        "train_acc, valid_acc = [],[]\n",
        "highest_acc = 0.0\n",
        "best_epoch = 0\n",
        "patience = 7\n",
        "early_stop_counter = 0\n",
        "\n",
        "for epoch in range(epochs):\n",
        "  print(f\"[INFO]: Epoch {epoch+1} of {epochs}\")\n",
        "\n",
        "  train_epoch_loss, train_epoch_acc = train(model,train_loader,optimizer,\n",
        "                                            criterion,device,scheduler, weight_decay)\n",
        "\n",
        "  train_loss.append(train_epoch_loss)\n",
        "  train_acc.append(train_epoch_acc)\n",
        "\n",
        "  start_time = time.time()\n",
        "  valid_epoch_loss, valid_epoch_acc = validate(model,val_loader,\n",
        "                                               criterion, device)\n",
        "  end_time = time.time()\n",
        "  inference = end_time - start_time\n",
        "\n",
        "  valid_loss.append(valid_epoch_loss)\n",
        "  valid_acc.append(valid_epoch_acc)\n",
        "\n",
        "  print(f\"\\nTraining loss: {train_epoch_loss:.2f}, Training acc: {train_epoch_acc:.1f}\")\n",
        "  print(f\"Validation loss: {valid_epoch_loss:.2f}, Validation acc: {valid_epoch_acc:.1f}\")\n",
        "  print(f\"Inference time: {inference:.2f} seconds\")\n",
        "  print('-'*50)\n",
        "\n",
        "  if valid_epoch_acc > highest_acc:\n",
        "    highest_acc = valid_epoch_acc\n",
        "    best_epoch = epoch + 1\n",
        "    early_stop_counter = 0\n",
        "  else:\n",
        "    early_stop_counter += 1\n",
        "    if early_stop_counter >= patience:\n",
        "      print(f\"Early stopping at epoch {epoch + 1} as validation accuracy did not improve.\")\n",
        "      break\n",
        "\n",
        "\n",
        "save_plots(train_acc,valid_acc,train_loss,valid_loss)\n",
        "print(f\"Highest validation accuracy achieved: {highest_acc:.1f} at epoch {best_epoch}\")\n",
        "print(plot_name)\n"
      ],
      "metadata": {
        "id": "X4zE2yYrwQgl",
        "colab": {
          "base_uri": "https://localhost:8080/",
          "height": 1000
        },
        "outputId": "1855b59d-4c97-4c56-ab58-b59a88e370bd"
      },
      "execution_count": 12,
      "outputs": [
        {
          "output_type": "stream",
          "name": "stdout",
          "text": [
            "Looking in indexes: https://pypi.org/simple, https://us-python.pkg.dev/colab-wheels/public/simple/\n",
            "Requirement already satisfied: torchsummary in /usr/local/lib/python3.10/dist-packages (1.5.1)\n",
            "----------------------------------------------------------------\n",
            "        Layer (type)               Output Shape         Param #\n",
            "================================================================\n",
            "            Conv2d-1           [-1, 64, 16, 16]           9,408\n",
            "       BatchNorm2d-2           [-1, 64, 16, 16]             128\n",
            "              ReLU-3           [-1, 64, 16, 16]               0\n",
            "         MaxPool2d-4             [-1, 64, 8, 8]               0\n",
            "            Conv2d-5             [-1, 64, 8, 8]          36,864\n",
            "       BatchNorm2d-6             [-1, 64, 8, 8]             128\n",
            "              ReLU-7             [-1, 64, 8, 8]               0\n",
            "            Conv2d-8             [-1, 64, 8, 8]          36,864\n",
            "       BatchNorm2d-9             [-1, 64, 8, 8]             128\n",
            "             ReLU-10             [-1, 64, 8, 8]               0\n",
            "       BasicBlock-11             [-1, 64, 8, 8]               0\n",
            "           Conv2d-12             [-1, 64, 8, 8]          36,864\n",
            "      BatchNorm2d-13             [-1, 64, 8, 8]             128\n",
            "             ReLU-14             [-1, 64, 8, 8]               0\n",
            "           Conv2d-15             [-1, 64, 8, 8]          36,864\n",
            "      BatchNorm2d-16             [-1, 64, 8, 8]             128\n",
            "             ReLU-17             [-1, 64, 8, 8]               0\n",
            "       BasicBlock-18             [-1, 64, 8, 8]               0\n",
            "           Conv2d-19            [-1, 128, 4, 4]          73,728\n",
            "      BatchNorm2d-20            [-1, 128, 4, 4]             256\n",
            "             ReLU-21            [-1, 128, 4, 4]               0\n",
            "           Conv2d-22            [-1, 128, 4, 4]         147,456\n",
            "      BatchNorm2d-23            [-1, 128, 4, 4]             256\n",
            "           Conv2d-24            [-1, 128, 4, 4]           8,192\n",
            "      BatchNorm2d-25            [-1, 128, 4, 4]             256\n",
            "             ReLU-26            [-1, 128, 4, 4]               0\n",
            "       BasicBlock-27            [-1, 128, 4, 4]               0\n",
            "           Conv2d-28            [-1, 128, 4, 4]         147,456\n",
            "      BatchNorm2d-29            [-1, 128, 4, 4]             256\n",
            "             ReLU-30            [-1, 128, 4, 4]               0\n",
            "           Conv2d-31            [-1, 128, 4, 4]         147,456\n",
            "      BatchNorm2d-32            [-1, 128, 4, 4]             256\n",
            "             ReLU-33            [-1, 128, 4, 4]               0\n",
            "       BasicBlock-34            [-1, 128, 4, 4]               0\n",
            "           Conv2d-35            [-1, 256, 2, 2]         294,912\n",
            "      BatchNorm2d-36            [-1, 256, 2, 2]             512\n",
            "             ReLU-37            [-1, 256, 2, 2]               0\n",
            "           Conv2d-38            [-1, 256, 2, 2]         589,824\n",
            "      BatchNorm2d-39            [-1, 256, 2, 2]             512\n",
            "           Conv2d-40            [-1, 256, 2, 2]          32,768\n",
            "      BatchNorm2d-41            [-1, 256, 2, 2]             512\n",
            "             ReLU-42            [-1, 256, 2, 2]               0\n",
            "       BasicBlock-43            [-1, 256, 2, 2]               0\n",
            "           Conv2d-44            [-1, 256, 2, 2]         589,824\n",
            "      BatchNorm2d-45            [-1, 256, 2, 2]             512\n",
            "             ReLU-46            [-1, 256, 2, 2]               0\n",
            "           Conv2d-47            [-1, 256, 2, 2]         589,824\n",
            "      BatchNorm2d-48            [-1, 256, 2, 2]             512\n",
            "             ReLU-49            [-1, 256, 2, 2]               0\n",
            "       BasicBlock-50            [-1, 256, 2, 2]               0\n",
            "           Conv2d-51            [-1, 512, 1, 1]       1,179,648\n",
            "      BatchNorm2d-52            [-1, 512, 1, 1]           1,024\n",
            "             ReLU-53            [-1, 512, 1, 1]               0\n",
            "           Conv2d-54            [-1, 512, 1, 1]       2,359,296\n",
            "      BatchNorm2d-55            [-1, 512, 1, 1]           1,024\n",
            "           Conv2d-56            [-1, 512, 1, 1]         131,072\n",
            "      BatchNorm2d-57            [-1, 512, 1, 1]           1,024\n",
            "             ReLU-58            [-1, 512, 1, 1]               0\n",
            "       BasicBlock-59            [-1, 512, 1, 1]               0\n",
            "           Conv2d-60            [-1, 512, 1, 1]       2,359,296\n",
            "      BatchNorm2d-61            [-1, 512, 1, 1]           1,024\n",
            "             ReLU-62            [-1, 512, 1, 1]               0\n",
            "           Conv2d-63            [-1, 512, 1, 1]       2,359,296\n",
            "      BatchNorm2d-64            [-1, 512, 1, 1]           1,024\n",
            "             ReLU-65            [-1, 512, 1, 1]               0\n",
            "       BasicBlock-66            [-1, 512, 1, 1]               0\n",
            "AdaptiveAvgPool2d-67            [-1, 512, 1, 1]               0\n",
            "           Linear-68                  [-1, 100]          51,300\n",
            "================================================================\n",
            "Total params: 11,227,812\n",
            "Trainable params: 11,227,812\n",
            "Non-trainable params: 0\n",
            "----------------------------------------------------------------\n",
            "Input size (MB): 0.01\n",
            "Forward/backward pass size (MB): 1.29\n",
            "Params size (MB): 42.83\n",
            "Estimated Total Size (MB): 44.13\n",
            "----------------------------------------------------------------\n",
            "[INFO]: Epoch 1 of 50\n",
            "Training\n"
          ]
        },
        {
          "output_type": "stream",
          "name": "stderr",
          "text": [
            "\u001b[35m100%|██████████████████████████████\u001b[0m"
          ]
        },
        {
          "output_type": "stream",
          "name": "stdout",
          "text": [
            "\n",
            "Validation\n"
          ]
        },
        {
          "output_type": "stream",
          "name": "stderr",
          "text": [
            "\n",
            "\u001b[36m100%|██████████████████████████████\u001b[0m"
          ]
        },
        {
          "output_type": "stream",
          "name": "stdout",
          "text": [
            "\n",
            "Training loss: 0.00, Training acc: 2.8\n",
            "Validation loss: 4.41, Validation acc: 5.4\n",
            "Inference time: 3.48 seconds\n",
            "--------------------------------------------------\n",
            "[INFO]: Epoch 2 of 50\n",
            "Training\n"
          ]
        },
        {
          "output_type": "stream",
          "name": "stderr",
          "text": [
            "\n",
            "\u001b[35m100%|██████████████████████████████\u001b[0m"
          ]
        },
        {
          "output_type": "stream",
          "name": "stdout",
          "text": [
            "\n",
            "Validation\n"
          ]
        },
        {
          "output_type": "stream",
          "name": "stderr",
          "text": [
            "\n",
            "\u001b[36m100%|██████████████████████████████\u001b[0m"
          ]
        },
        {
          "output_type": "stream",
          "name": "stdout",
          "text": [
            "\n",
            "Training loss: 0.00, Training acc: 7.4\n",
            "Validation loss: 4.06, Validation acc: 10.5\n",
            "Inference time: 3.33 seconds\n",
            "--------------------------------------------------\n",
            "[INFO]: Epoch 3 of 50\n",
            "Training\n"
          ]
        },
        {
          "output_type": "stream",
          "name": "stderr",
          "text": [
            "\n",
            "\u001b[35m100%|██████████████████████████████\u001b[0m"
          ]
        },
        {
          "output_type": "stream",
          "name": "stdout",
          "text": [
            "\n",
            "Validation\n"
          ]
        },
        {
          "output_type": "stream",
          "name": "stderr",
          "text": [
            "\n",
            "\u001b[36m100%|██████████████████████████████\u001b[0m"
          ]
        },
        {
          "output_type": "stream",
          "name": "stdout",
          "text": [
            "\n",
            "Training loss: 0.00, Training acc: 11.5\n",
            "Validation loss: 3.77, Validation acc: 15.0\n",
            "Inference time: 3.35 seconds\n",
            "--------------------------------------------------\n",
            "[INFO]: Epoch 4 of 50\n",
            "Training\n"
          ]
        },
        {
          "output_type": "stream",
          "name": "stderr",
          "text": [
            "\n",
            "\u001b[35m100%|██████████████████████████████\u001b[0m"
          ]
        },
        {
          "output_type": "stream",
          "name": "stdout",
          "text": [
            "\n",
            "Validation\n"
          ]
        },
        {
          "output_type": "stream",
          "name": "stderr",
          "text": [
            "\n",
            "\u001b[36m100%|██████████████████████████████\u001b[0m"
          ]
        },
        {
          "output_type": "stream",
          "name": "stdout",
          "text": [
            "\n",
            "Training loss: 0.00, Training acc: 15.2\n",
            "Validation loss: 3.55, Validation acc: 18.0\n",
            "Inference time: 3.36 seconds\n",
            "--------------------------------------------------\n",
            "[INFO]: Epoch 5 of 50\n",
            "Training\n"
          ]
        },
        {
          "output_type": "stream",
          "name": "stderr",
          "text": [
            "\n",
            "\u001b[35m100%|██████████████████████████████\u001b[0m"
          ]
        },
        {
          "output_type": "stream",
          "name": "stdout",
          "text": [
            "\n",
            "Validation\n"
          ]
        },
        {
          "output_type": "stream",
          "name": "stderr",
          "text": [
            "\n",
            "\u001b[36m100%|██████████████████████████████\u001b[0m"
          ]
        },
        {
          "output_type": "stream",
          "name": "stdout",
          "text": [
            "\n",
            "Training loss: 0.00, Training acc: 17.8\n",
            "Validation loss: 3.36, Validation acc: 21.0\n",
            "Inference time: 3.41 seconds\n",
            "--------------------------------------------------\n",
            "[INFO]: Epoch 6 of 50\n",
            "Training\n"
          ]
        },
        {
          "output_type": "stream",
          "name": "stderr",
          "text": [
            "\n",
            "\u001b[35m100%|██████████████████████████████\u001b[0m"
          ]
        },
        {
          "output_type": "stream",
          "name": "stdout",
          "text": [
            "\n",
            "Validation\n"
          ]
        },
        {
          "output_type": "stream",
          "name": "stderr",
          "text": [
            "\n",
            "\u001b[36m100%|██████████████████████████████\u001b[0m"
          ]
        },
        {
          "output_type": "stream",
          "name": "stdout",
          "text": [
            "\n",
            "Training loss: 0.00, Training acc: 20.8\n",
            "Validation loss: 3.22, Validation acc: 23.2\n",
            "Inference time: 3.32 seconds\n",
            "--------------------------------------------------\n",
            "[INFO]: Epoch 7 of 50\n",
            "Training\n"
          ]
        },
        {
          "output_type": "stream",
          "name": "stderr",
          "text": [
            "\n",
            "\u001b[35m100%|██████████████████████████████\u001b[0m"
          ]
        },
        {
          "output_type": "stream",
          "name": "stdout",
          "text": [
            "\n",
            "Validation\n"
          ]
        },
        {
          "output_type": "stream",
          "name": "stderr",
          "text": [
            "\n",
            "\u001b[36m100%|██████████████████████████████\u001b[0m"
          ]
        },
        {
          "output_type": "stream",
          "name": "stdout",
          "text": [
            "\n",
            "Training loss: 0.00, Training acc: 23.4\n",
            "Validation loss: 3.08, Validation acc: 26.1\n",
            "Inference time: 3.37 seconds\n",
            "--------------------------------------------------\n",
            "[INFO]: Epoch 8 of 50\n",
            "Training\n"
          ]
        },
        {
          "output_type": "stream",
          "name": "stderr",
          "text": [
            "\n",
            "\u001b[35m100%|██████████████████████████████\u001b[0m"
          ]
        },
        {
          "output_type": "stream",
          "name": "stdout",
          "text": [
            "\n",
            "Validation\n"
          ]
        },
        {
          "output_type": "stream",
          "name": "stderr",
          "text": [
            "\n",
            "\u001b[36m100%|██████████████████████████████\u001b[0m"
          ]
        },
        {
          "output_type": "stream",
          "name": "stdout",
          "text": [
            "\n",
            "Training loss: 0.00, Training acc: 26.1\n",
            "Validation loss: 2.93, Validation acc: 28.5\n",
            "Inference time: 3.46 seconds\n",
            "--------------------------------------------------\n",
            "[INFO]: Epoch 9 of 50\n",
            "Training\n"
          ]
        },
        {
          "output_type": "stream",
          "name": "stderr",
          "text": [
            "\n",
            "\u001b[35m100%|██████████████████████████████\u001b[0m"
          ]
        },
        {
          "output_type": "stream",
          "name": "stdout",
          "text": [
            "\n",
            "Validation\n"
          ]
        },
        {
          "output_type": "stream",
          "name": "stderr",
          "text": [
            "\n",
            "\u001b[36m100%|██████████████████████████████\u001b[0m"
          ]
        },
        {
          "output_type": "stream",
          "name": "stdout",
          "text": [
            "\n",
            "Training loss: 0.00, Training acc: 28.4\n",
            "Validation loss: 2.84, Validation acc: 30.0\n",
            "Inference time: 4.23 seconds\n",
            "--------------------------------------------------\n",
            "[INFO]: Epoch 10 of 50\n",
            "Training\n"
          ]
        },
        {
          "output_type": "stream",
          "name": "stderr",
          "text": [
            "\n",
            "\u001b[35m100%|██████████████████████████████\u001b[0m"
          ]
        },
        {
          "output_type": "stream",
          "name": "stdout",
          "text": [
            "\n",
            "Validation\n"
          ]
        },
        {
          "output_type": "stream",
          "name": "stderr",
          "text": [
            "\n",
            "\u001b[36m100%|██████████████████████████████\u001b[0m"
          ]
        },
        {
          "output_type": "stream",
          "name": "stdout",
          "text": [
            "\n",
            "Training loss: 0.00, Training acc: 30.4\n",
            "Validation loss: 2.75, Validation acc: 31.7\n",
            "Inference time: 4.25 seconds\n",
            "--------------------------------------------------\n",
            "[INFO]: Epoch 11 of 50\n",
            "Training\n"
          ]
        },
        {
          "output_type": "stream",
          "name": "stderr",
          "text": [
            "\n",
            "\u001b[35m100%|██████████████████████████████\u001b[0m"
          ]
        },
        {
          "output_type": "stream",
          "name": "stdout",
          "text": [
            "\n",
            "Validation\n"
          ]
        },
        {
          "output_type": "stream",
          "name": "stderr",
          "text": [
            "\n",
            "\u001b[36m100%|██████████████████████████████\u001b[0m"
          ]
        },
        {
          "output_type": "stream",
          "name": "stdout",
          "text": [
            "\n",
            "Training loss: 0.00, Training acc: 32.3\n",
            "Validation loss: 2.67, Validation acc: 32.9\n",
            "Inference time: 3.92 seconds\n",
            "--------------------------------------------------\n",
            "[INFO]: Epoch 12 of 50\n",
            "Training\n"
          ]
        },
        {
          "output_type": "stream",
          "name": "stderr",
          "text": [
            "\n",
            "\u001b[35m100%|██████████████████████████████\u001b[0m"
          ]
        },
        {
          "output_type": "stream",
          "name": "stdout",
          "text": [
            "\n",
            "Validation\n"
          ]
        },
        {
          "output_type": "stream",
          "name": "stderr",
          "text": [
            "\n",
            "\u001b[36m100%|██████████████████████████████\u001b[0m"
          ]
        },
        {
          "output_type": "stream",
          "name": "stdout",
          "text": [
            "\n",
            "Training loss: 0.00, Training acc: 34.2\n",
            "Validation loss: 2.57, Validation acc: 35.3\n",
            "Inference time: 3.49 seconds\n",
            "--------------------------------------------------\n",
            "[INFO]: Epoch 13 of 50\n",
            "Training\n"
          ]
        },
        {
          "output_type": "stream",
          "name": "stderr",
          "text": [
            "\n",
            "\u001b[35m100%|██████████████████████████████\u001b[0m"
          ]
        },
        {
          "output_type": "stream",
          "name": "stdout",
          "text": [
            "\n",
            "Validation\n"
          ]
        },
        {
          "output_type": "stream",
          "name": "stderr",
          "text": [
            "\n",
            "\u001b[36m100%|██████████████████████████████\u001b[0m\n"
          ]
        },
        {
          "output_type": "stream",
          "name": "stdout",
          "text": [
            "\n",
            "Training loss: 0.00, Training acc: 36.1\n",
            "Validation loss: 2.54, Validation acc: 35.6\n",
            "Inference time: 3.39 seconds\n",
            "--------------------------------------------------\n",
            "[INFO]: Epoch 14 of 50\n",
            "Training\n"
          ]
        },
        {
          "output_type": "stream",
          "name": "stderr",
          "text": [
            "\u001b[35m100%|██████████████████████████████\u001b[0m"
          ]
        },
        {
          "output_type": "stream",
          "name": "stdout",
          "text": [
            "\n",
            "Validation\n"
          ]
        },
        {
          "output_type": "stream",
          "name": "stderr",
          "text": [
            "\n",
            "\u001b[36m100%|██████████████████████████████\u001b[0m"
          ]
        },
        {
          "output_type": "stream",
          "name": "stdout",
          "text": [
            "\n",
            "Training loss: 0.00, Training acc: 37.4\n",
            "Validation loss: 2.46, Validation acc: 37.2\n",
            "Inference time: 3.31 seconds\n",
            "--------------------------------------------------\n",
            "[INFO]: Epoch 15 of 50\n",
            "Training\n"
          ]
        },
        {
          "output_type": "stream",
          "name": "stderr",
          "text": [
            "\n",
            "\u001b[35m100%|██████████████████████████████\u001b[0m"
          ]
        },
        {
          "output_type": "stream",
          "name": "stdout",
          "text": [
            "\n",
            "Validation\n"
          ]
        },
        {
          "output_type": "stream",
          "name": "stderr",
          "text": [
            "\n",
            "\u001b[36m100%|██████████████████████████████\u001b[0m"
          ]
        },
        {
          "output_type": "stream",
          "name": "stdout",
          "text": [
            "\n",
            "Training loss: 0.00, Training acc: 38.8\n",
            "Validation loss: 2.42, Validation acc: 38.0\n",
            "Inference time: 3.34 seconds\n",
            "--------------------------------------------------\n",
            "[INFO]: Epoch 16 of 50\n",
            "Training\n"
          ]
        },
        {
          "output_type": "stream",
          "name": "stderr",
          "text": [
            "\n",
            "\u001b[35m100%|██████████████████████████████\u001b[0m"
          ]
        },
        {
          "output_type": "stream",
          "name": "stdout",
          "text": [
            "\n",
            "Validation\n"
          ]
        },
        {
          "output_type": "stream",
          "name": "stderr",
          "text": [
            "\n",
            "\u001b[36m100%|██████████████████████████████\u001b[0m"
          ]
        },
        {
          "output_type": "stream",
          "name": "stdout",
          "text": [
            "\n",
            "Training loss: 0.00, Training acc: 40.3\n",
            "Validation loss: 2.41, Validation acc: 38.7\n",
            "Inference time: 3.38 seconds\n",
            "--------------------------------------------------\n",
            "[INFO]: Epoch 17 of 50\n",
            "Training\n"
          ]
        },
        {
          "output_type": "stream",
          "name": "stderr",
          "text": [
            "\n",
            "\u001b[35m100%|██████████████████████████████\u001b[0m"
          ]
        },
        {
          "output_type": "stream",
          "name": "stdout",
          "text": [
            "\n",
            "Validation\n"
          ]
        },
        {
          "output_type": "stream",
          "name": "stderr",
          "text": [
            "\n",
            "\u001b[36m100%|██████████████████████████████\u001b[0m\n"
          ]
        },
        {
          "output_type": "stream",
          "name": "stdout",
          "text": [
            "\n",
            "Training loss: 0.00, Training acc: 41.4\n",
            "Validation loss: 2.34, Validation acc: 39.9\n",
            "Inference time: 3.31 seconds\n",
            "--------------------------------------------------\n",
            "[INFO]: Epoch 18 of 50\n",
            "Training\n"
          ]
        },
        {
          "output_type": "stream",
          "name": "stderr",
          "text": [
            "\u001b[35m100%|██████████████████████████████\u001b[0m"
          ]
        },
        {
          "output_type": "stream",
          "name": "stdout",
          "text": [
            "\n",
            "Validation\n"
          ]
        },
        {
          "output_type": "stream",
          "name": "stderr",
          "text": [
            "\n",
            "\u001b[36m100%|██████████████████████████████\u001b[0m"
          ]
        },
        {
          "output_type": "stream",
          "name": "stdout",
          "text": [
            "\n",
            "Training loss: 0.00, Training acc: 42.7\n",
            "Validation loss: 2.34, Validation acc: 40.0\n",
            "Inference time: 3.54 seconds\n",
            "--------------------------------------------------\n",
            "[INFO]: Epoch 19 of 50\n",
            "Training\n"
          ]
        },
        {
          "output_type": "stream",
          "name": "stderr",
          "text": [
            "\n",
            "\u001b[35m100%|██████████████████████████████\u001b[0m"
          ]
        },
        {
          "output_type": "stream",
          "name": "stdout",
          "text": [
            "\n",
            "Validation\n"
          ]
        },
        {
          "output_type": "stream",
          "name": "stderr",
          "text": [
            "\n",
            "\u001b[36m100%|██████████████████████████████\u001b[0m"
          ]
        },
        {
          "output_type": "stream",
          "name": "stdout",
          "text": [
            "\n",
            "Training loss: 0.00, Training acc: 43.6\n",
            "Validation loss: 2.27, Validation acc: 40.8\n",
            "Inference time: 4.50 seconds\n",
            "--------------------------------------------------\n",
            "[INFO]: Epoch 20 of 50\n",
            "Training\n"
          ]
        },
        {
          "output_type": "stream",
          "name": "stderr",
          "text": [
            "\n",
            "\u001b[35m100%|██████████████████████████████\u001b[0m"
          ]
        },
        {
          "output_type": "stream",
          "name": "stdout",
          "text": [
            "\n",
            "Validation\n"
          ]
        },
        {
          "output_type": "stream",
          "name": "stderr",
          "text": [
            "\n",
            "\u001b[36m100%|██████████████████████████████\u001b[0m"
          ]
        },
        {
          "output_type": "stream",
          "name": "stdout",
          "text": [
            "\n",
            "Training loss: 0.00, Training acc: 44.8\n",
            "Validation loss: 2.22, Validation acc: 42.9\n",
            "Inference time: 4.23 seconds\n",
            "--------------------------------------------------\n",
            "[INFO]: Epoch 21 of 50\n",
            "Training\n"
          ]
        },
        {
          "output_type": "stream",
          "name": "stderr",
          "text": [
            "\n",
            "\u001b[35m100%|██████████████████████████████\u001b[0m"
          ]
        },
        {
          "output_type": "stream",
          "name": "stdout",
          "text": [
            "\n",
            "Validation\n"
          ]
        },
        {
          "output_type": "stream",
          "name": "stderr",
          "text": [
            "\n",
            "\u001b[36m100%|██████████████████████████████\u001b[0m"
          ]
        },
        {
          "output_type": "stream",
          "name": "stdout",
          "text": [
            "\n",
            "Training loss: 0.00, Training acc: 46.2\n",
            "Validation loss: 2.29, Validation acc: 41.6\n",
            "Inference time: 3.81 seconds\n",
            "--------------------------------------------------\n",
            "[INFO]: Epoch 22 of 50\n",
            "Training\n"
          ]
        },
        {
          "output_type": "stream",
          "name": "stderr",
          "text": [
            "\n",
            "\u001b[35m100%|██████████████████████████████\u001b[0m"
          ]
        },
        {
          "output_type": "stream",
          "name": "stdout",
          "text": [
            "\n",
            "Validation\n"
          ]
        },
        {
          "output_type": "stream",
          "name": "stderr",
          "text": [
            "\n",
            "\u001b[36m100%|██████████████████████████████\u001b[0m"
          ]
        },
        {
          "output_type": "stream",
          "name": "stdout",
          "text": [
            "\n",
            "Training loss: 0.00, Training acc: 46.6\n",
            "Validation loss: 2.19, Validation acc: 43.2\n",
            "Inference time: 3.54 seconds\n",
            "--------------------------------------------------\n",
            "[INFO]: Epoch 23 of 50\n",
            "Training\n"
          ]
        },
        {
          "output_type": "stream",
          "name": "stderr",
          "text": [
            "\n",
            "\u001b[35m100%|██████████████████████████████\u001b[0m"
          ]
        },
        {
          "output_type": "stream",
          "name": "stdout",
          "text": [
            "\n",
            "Validation\n"
          ]
        },
        {
          "output_type": "stream",
          "name": "stderr",
          "text": [
            "\n",
            "\u001b[36m100%|██████████████████████████████\u001b[0m"
          ]
        },
        {
          "output_type": "stream",
          "name": "stdout",
          "text": [
            "\n",
            "Training loss: 0.00, Training acc: 47.8\n",
            "Validation loss: 2.17, Validation acc: 43.9\n",
            "Inference time: 3.29 seconds\n",
            "--------------------------------------------------\n",
            "[INFO]: Epoch 24 of 50\n",
            "Training\n"
          ]
        },
        {
          "output_type": "stream",
          "name": "stderr",
          "text": [
            "\n",
            "\u001b[35m100%|██████████████████████████████\u001b[0m"
          ]
        },
        {
          "output_type": "stream",
          "name": "stdout",
          "text": [
            "\n",
            "Validation\n"
          ]
        },
        {
          "output_type": "stream",
          "name": "stderr",
          "text": [
            "\n",
            "\u001b[36m100%|██████████████████████████████\u001b[0m"
          ]
        },
        {
          "output_type": "stream",
          "name": "stdout",
          "text": [
            "\n",
            "Training loss: 0.00, Training acc: 48.7\n",
            "Validation loss: 2.09, Validation acc: 45.7\n",
            "Inference time: 3.43 seconds\n",
            "--------------------------------------------------\n",
            "[INFO]: Epoch 25 of 50\n",
            "Training\n"
          ]
        },
        {
          "output_type": "stream",
          "name": "stderr",
          "text": [
            "\n",
            "\u001b[35m100%|██████████████████████████████\u001b[0m"
          ]
        },
        {
          "output_type": "stream",
          "name": "stdout",
          "text": [
            "\n",
            "Validation\n"
          ]
        },
        {
          "output_type": "stream",
          "name": "stderr",
          "text": [
            "\n",
            "\u001b[36m100%|██████████████████████████████\u001b[0m"
          ]
        },
        {
          "output_type": "stream",
          "name": "stdout",
          "text": [
            "\n",
            "Training loss: 0.00, Training acc: 49.5\n",
            "Validation loss: 2.15, Validation acc: 43.7\n",
            "Inference time: 3.38 seconds\n",
            "--------------------------------------------------\n",
            "[INFO]: Epoch 26 of 50\n",
            "Training\n"
          ]
        },
        {
          "output_type": "stream",
          "name": "stderr",
          "text": [
            "\n",
            "\u001b[35m100%|██████████████████████████████\u001b[0m"
          ]
        },
        {
          "output_type": "stream",
          "name": "stdout",
          "text": [
            "\n",
            "Validation\n"
          ]
        },
        {
          "output_type": "stream",
          "name": "stderr",
          "text": [
            "\n",
            "\u001b[36m100%|██████████████████████████████\u001b[0m"
          ]
        },
        {
          "output_type": "stream",
          "name": "stdout",
          "text": [
            "\n",
            "Training loss: 0.00, Training acc: 50.4\n",
            "Validation loss: 2.10, Validation acc: 45.1\n",
            "Inference time: 3.41 seconds\n",
            "--------------------------------------------------\n",
            "[INFO]: Epoch 27 of 50\n",
            "Training\n"
          ]
        },
        {
          "output_type": "stream",
          "name": "stderr",
          "text": [
            "\n",
            "\u001b[35m100%|██████████████████████████████\u001b[0m"
          ]
        },
        {
          "output_type": "stream",
          "name": "stdout",
          "text": [
            "\n",
            "Validation\n"
          ]
        },
        {
          "output_type": "stream",
          "name": "stderr",
          "text": [
            "\n",
            "\u001b[36m100%|██████████████████████████████\u001b[0m"
          ]
        },
        {
          "output_type": "stream",
          "name": "stdout",
          "text": [
            "\n",
            "Training loss: 0.00, Training acc: 51.6\n",
            "Validation loss: 2.09, Validation acc: 45.5\n",
            "Inference time: 3.35 seconds\n",
            "--------------------------------------------------\n",
            "[INFO]: Epoch 28 of 50\n",
            "Training\n"
          ]
        },
        {
          "output_type": "stream",
          "name": "stderr",
          "text": [
            "\n",
            "\u001b[35m100%|██████████████████████████████\u001b[0m"
          ]
        },
        {
          "output_type": "stream",
          "name": "stdout",
          "text": [
            "\n",
            "Validation\n"
          ]
        },
        {
          "output_type": "stream",
          "name": "stderr",
          "text": [
            "\n",
            "\u001b[36m100%|██████████████████████████████\u001b[0m"
          ]
        },
        {
          "output_type": "stream",
          "name": "stdout",
          "text": [
            "\n",
            "Training loss: 0.00, Training acc: 52.5\n",
            "Validation loss: 2.03, Validation acc: 47.2\n",
            "Inference time: 4.08 seconds\n",
            "--------------------------------------------------\n",
            "[INFO]: Epoch 29 of 50\n",
            "Training\n"
          ]
        },
        {
          "output_type": "stream",
          "name": "stderr",
          "text": [
            "\n",
            "\u001b[35m100%|██████████████████████████████\u001b[0m"
          ]
        },
        {
          "output_type": "stream",
          "name": "stdout",
          "text": [
            "\n",
            "Validation\n"
          ]
        },
        {
          "output_type": "stream",
          "name": "stderr",
          "text": [
            "\n",
            "\u001b[36m100%|██████████████████████████████\u001b[0m"
          ]
        },
        {
          "output_type": "stream",
          "name": "stdout",
          "text": [
            "\n",
            "Training loss: 0.00, Training acc: 53.6\n",
            "Validation loss: 2.08, Validation acc: 45.9\n",
            "Inference time: 4.22 seconds\n",
            "--------------------------------------------------\n",
            "[INFO]: Epoch 30 of 50\n",
            "Training\n"
          ]
        },
        {
          "output_type": "stream",
          "name": "stderr",
          "text": [
            "\n",
            "\u001b[35m100%|██████████████████████████████\u001b[0m"
          ]
        },
        {
          "output_type": "stream",
          "name": "stdout",
          "text": [
            "\n",
            "Validation\n"
          ]
        },
        {
          "output_type": "stream",
          "name": "stderr",
          "text": [
            "\n",
            "\u001b[36m100%|██████████████████████████████\u001b[0m"
          ]
        },
        {
          "output_type": "stream",
          "name": "stdout",
          "text": [
            "\n",
            "Training loss: 0.00, Training acc: 54.1\n",
            "Validation loss: 2.04, Validation acc: 47.0\n",
            "Inference time: 4.00 seconds\n",
            "--------------------------------------------------\n",
            "[INFO]: Epoch 31 of 50\n",
            "Training\n"
          ]
        },
        {
          "output_type": "stream",
          "name": "stderr",
          "text": [
            "\n",
            "\u001b[35m100%|██████████████████████████████\u001b[0m"
          ]
        },
        {
          "output_type": "stream",
          "name": "stdout",
          "text": [
            "\n",
            "Validation\n"
          ]
        },
        {
          "output_type": "stream",
          "name": "stderr",
          "text": [
            "\n",
            "\u001b[36m100%|██████████████████████████████\u001b[0m"
          ]
        },
        {
          "output_type": "stream",
          "name": "stdout",
          "text": [
            "\n",
            "Training loss: 0.00, Training acc: 54.8\n",
            "Validation loss: 2.04, Validation acc: 47.1\n",
            "Inference time: 3.34 seconds\n",
            "--------------------------------------------------\n",
            "[INFO]: Epoch 32 of 50\n",
            "Training\n"
          ]
        },
        {
          "output_type": "stream",
          "name": "stderr",
          "text": [
            "\n",
            "\u001b[35m100%|██████████████████████████████\u001b[0m"
          ]
        },
        {
          "output_type": "stream",
          "name": "stdout",
          "text": [
            "\n",
            "Validation\n"
          ]
        },
        {
          "output_type": "stream",
          "name": "stderr",
          "text": [
            "\n",
            "\u001b[36m100%|██████████████████████████████\u001b[0m\n"
          ]
        },
        {
          "output_type": "stream",
          "name": "stdout",
          "text": [
            "\n",
            "Training loss: 0.00, Training acc: 55.8\n",
            "Validation loss: 1.98, Validation acc: 47.8\n",
            "Inference time: 3.31 seconds\n",
            "--------------------------------------------------\n",
            "[INFO]: Epoch 33 of 50\n",
            "Training\n"
          ]
        },
        {
          "output_type": "stream",
          "name": "stderr",
          "text": [
            "\u001b[35m100%|██████████████████████████████\u001b[0m"
          ]
        },
        {
          "output_type": "stream",
          "name": "stdout",
          "text": [
            "\n",
            "Validation\n"
          ]
        },
        {
          "output_type": "stream",
          "name": "stderr",
          "text": [
            "\n",
            "\u001b[36m100%|██████████████████████████████\u001b[0m\n"
          ]
        },
        {
          "output_type": "stream",
          "name": "stdout",
          "text": [
            "\n",
            "Training loss: 0.00, Training acc: 57.1\n",
            "Validation loss: 1.98, Validation acc: 48.5\n",
            "Inference time: 3.43 seconds\n",
            "--------------------------------------------------\n",
            "[INFO]: Epoch 34 of 50\n",
            "Training\n"
          ]
        },
        {
          "output_type": "stream",
          "name": "stderr",
          "text": [
            "\u001b[35m100%|██████████████████████████████\u001b[0m"
          ]
        },
        {
          "output_type": "stream",
          "name": "stdout",
          "text": [
            "\n",
            "Validation\n"
          ]
        },
        {
          "output_type": "stream",
          "name": "stderr",
          "text": [
            "\n",
            "\u001b[36m100%|██████████████████████████████\u001b[0m"
          ]
        },
        {
          "output_type": "stream",
          "name": "stdout",
          "text": [
            "\n",
            "Training loss: 0.00, Training acc: 57.7\n",
            "Validation loss: 1.95, Validation acc: 49.1\n",
            "Inference time: 4.33 seconds\n",
            "--------------------------------------------------\n",
            "[INFO]: Epoch 35 of 50\n",
            "Training\n"
          ]
        },
        {
          "output_type": "stream",
          "name": "stderr",
          "text": [
            "\n",
            "\u001b[35m100%|██████████████████████████████\u001b[0m"
          ]
        },
        {
          "output_type": "stream",
          "name": "stdout",
          "text": [
            "\n",
            "Validation\n"
          ]
        },
        {
          "output_type": "stream",
          "name": "stderr",
          "text": [
            "\n",
            "\u001b[36m100%|██████████████████████████████\u001b[0m"
          ]
        },
        {
          "output_type": "stream",
          "name": "stdout",
          "text": [
            "\n",
            "Training loss: 0.00, Training acc: 58.7\n",
            "Validation loss: 1.96, Validation acc: 49.1\n",
            "Inference time: 3.39 seconds\n",
            "--------------------------------------------------\n",
            "[INFO]: Epoch 36 of 50\n",
            "Training\n"
          ]
        },
        {
          "output_type": "stream",
          "name": "stderr",
          "text": [
            "\n",
            "\u001b[35m100%|██████████████████████████████\u001b[0m"
          ]
        },
        {
          "output_type": "stream",
          "name": "stdout",
          "text": [
            "\n",
            "Validation\n"
          ]
        },
        {
          "output_type": "stream",
          "name": "stderr",
          "text": [
            "\n",
            "\u001b[36m100%|██████████████████████████████\u001b[0m"
          ]
        },
        {
          "output_type": "stream",
          "name": "stdout",
          "text": [
            "\n",
            "Training loss: 0.00, Training acc: 59.5\n",
            "Validation loss: 1.94, Validation acc: 49.2\n",
            "Inference time: 3.64 seconds\n",
            "--------------------------------------------------\n",
            "[INFO]: Epoch 37 of 50\n",
            "Training\n"
          ]
        },
        {
          "output_type": "stream",
          "name": "stderr",
          "text": [
            "\n",
            "\u001b[35m100%|██████████████████████████████\u001b[0m"
          ]
        },
        {
          "output_type": "stream",
          "name": "stdout",
          "text": [
            "\n",
            "Validation\n"
          ]
        },
        {
          "output_type": "stream",
          "name": "stderr",
          "text": [
            "\n",
            "\u001b[36m100%|██████████████████████████████\u001b[0m"
          ]
        },
        {
          "output_type": "stream",
          "name": "stdout",
          "text": [
            "\n",
            "Training loss: 0.00, Training acc: 60.9\n",
            "Validation loss: 1.92, Validation acc: 50.4\n",
            "Inference time: 4.35 seconds\n",
            "--------------------------------------------------\n",
            "[INFO]: Epoch 38 of 50\n",
            "Training\n"
          ]
        },
        {
          "output_type": "stream",
          "name": "stderr",
          "text": [
            "\n",
            "\u001b[35m100%|██████████████████████████████\u001b[0m"
          ]
        },
        {
          "output_type": "stream",
          "name": "stdout",
          "text": [
            "\n",
            "Validation\n"
          ]
        },
        {
          "output_type": "stream",
          "name": "stderr",
          "text": [
            "\n",
            "\u001b[36m100%|██████████████████████████████\u001b[0m"
          ]
        },
        {
          "output_type": "stream",
          "name": "stdout",
          "text": [
            "\n",
            "Training loss: 0.00, Training acc: 62.0\n",
            "Validation loss: 1.89, Validation acc: 51.2\n",
            "Inference time: 4.28 seconds\n",
            "--------------------------------------------------\n",
            "[INFO]: Epoch 39 of 50\n",
            "Training\n"
          ]
        },
        {
          "output_type": "stream",
          "name": "stderr",
          "text": [
            "\n",
            "\u001b[35m100%|██████████████████████████████\u001b[0m"
          ]
        },
        {
          "output_type": "stream",
          "name": "stdout",
          "text": [
            "\n",
            "Validation\n"
          ]
        },
        {
          "output_type": "stream",
          "name": "stderr",
          "text": [
            "\n",
            "\u001b[36m100%|██████████████████████████████\u001b[0m\n"
          ]
        },
        {
          "output_type": "stream",
          "name": "stdout",
          "text": [
            "\n",
            "Training loss: 0.00, Training acc: 63.0\n",
            "Validation loss: 1.87, Validation acc: 51.0\n",
            "Inference time: 3.54 seconds\n",
            "--------------------------------------------------\n",
            "[INFO]: Epoch 40 of 50\n",
            "Training\n"
          ]
        },
        {
          "output_type": "stream",
          "name": "stderr",
          "text": [
            "\u001b[35m100%|██████████████████████████████\u001b[0m"
          ]
        },
        {
          "output_type": "stream",
          "name": "stdout",
          "text": [
            "\n",
            "Validation\n"
          ]
        },
        {
          "output_type": "stream",
          "name": "stderr",
          "text": [
            "\n",
            "\u001b[36m100%|██████████████████████████████\u001b[0m"
          ]
        },
        {
          "output_type": "stream",
          "name": "stdout",
          "text": [
            "\n",
            "Training loss: 0.00, Training acc: 64.8\n",
            "Validation loss: 1.88, Validation acc: 51.0\n",
            "Inference time: 3.35 seconds\n",
            "--------------------------------------------------\n",
            "[INFO]: Epoch 41 of 50\n",
            "Training\n"
          ]
        },
        {
          "output_type": "stream",
          "name": "stderr",
          "text": [
            "\n",
            "\u001b[35m100%|██████████████████████████████\u001b[0m"
          ]
        },
        {
          "output_type": "stream",
          "name": "stdout",
          "text": [
            "\n",
            "Validation\n"
          ]
        },
        {
          "output_type": "stream",
          "name": "stderr",
          "text": [
            "\n",
            "\u001b[36m100%|██████████████████████████████\u001b[0m"
          ]
        },
        {
          "output_type": "stream",
          "name": "stdout",
          "text": [
            "\n",
            "Training loss: 0.00, Training acc: 66.0\n",
            "Validation loss: 1.84, Validation acc: 52.4\n",
            "Inference time: 3.39 seconds\n",
            "--------------------------------------------------\n",
            "[INFO]: Epoch 42 of 50\n",
            "Training\n"
          ]
        },
        {
          "output_type": "stream",
          "name": "stderr",
          "text": [
            "\n",
            "\u001b[35m100%|██████████████████████████████\u001b[0m"
          ]
        },
        {
          "output_type": "stream",
          "name": "stdout",
          "text": [
            "\n",
            "Validation\n"
          ]
        },
        {
          "output_type": "stream",
          "name": "stderr",
          "text": [
            "\n",
            "\u001b[36m100%|██████████████████████████████\u001b[0m"
          ]
        },
        {
          "output_type": "stream",
          "name": "stdout",
          "text": [
            "\n",
            "Training loss: 0.00, Training acc: 67.1\n",
            "Validation loss: 1.82, Validation acc: 52.8\n",
            "Inference time: 3.37 seconds\n",
            "--------------------------------------------------\n",
            "[INFO]: Epoch 43 of 50\n",
            "Training\n"
          ]
        },
        {
          "output_type": "stream",
          "name": "stderr",
          "text": [
            "\n",
            "\u001b[35m100%|██████████████████████████████\u001b[0m"
          ]
        },
        {
          "output_type": "stream",
          "name": "stdout",
          "text": [
            "\n",
            "Validation\n"
          ]
        },
        {
          "output_type": "stream",
          "name": "stderr",
          "text": [
            "\n",
            "\u001b[36m100%|██████████████████████████████\u001b[0m"
          ]
        },
        {
          "output_type": "stream",
          "name": "stdout",
          "text": [
            "\n",
            "Training loss: 0.00, Training acc: 68.9\n",
            "Validation loss: 1.81, Validation acc: 53.2\n",
            "Inference time: 3.42 seconds\n",
            "--------------------------------------------------\n",
            "[INFO]: Epoch 44 of 50\n",
            "Training\n"
          ]
        },
        {
          "output_type": "stream",
          "name": "stderr",
          "text": [
            "\n",
            "\u001b[35m100%|██████████████████████████████\u001b[0m"
          ]
        },
        {
          "output_type": "stream",
          "name": "stdout",
          "text": [
            "\n",
            "Validation\n"
          ]
        },
        {
          "output_type": "stream",
          "name": "stderr",
          "text": [
            "\n",
            "\u001b[36m100%|██████████████████████████████\u001b[0m"
          ]
        },
        {
          "output_type": "stream",
          "name": "stdout",
          "text": [
            "\n",
            "Training loss: 0.00, Training acc: 69.9\n",
            "Validation loss: 1.80, Validation acc: 53.5\n",
            "Inference time: 3.41 seconds\n",
            "--------------------------------------------------\n",
            "[INFO]: Epoch 45 of 50\n",
            "Training\n"
          ]
        },
        {
          "output_type": "stream",
          "name": "stderr",
          "text": [
            "\n",
            "\u001b[35m100%|██████████████████████████████\u001b[0m"
          ]
        },
        {
          "output_type": "stream",
          "name": "stdout",
          "text": [
            "\n",
            "Validation\n"
          ]
        },
        {
          "output_type": "stream",
          "name": "stderr",
          "text": [
            "\n",
            "\u001b[36m100%|██████████████████████████████\u001b[0m"
          ]
        },
        {
          "output_type": "stream",
          "name": "stdout",
          "text": [
            "\n",
            "Training loss: 0.00, Training acc: 71.6\n",
            "Validation loss: 1.79, Validation acc: 54.1\n",
            "Inference time: 3.75 seconds\n",
            "--------------------------------------------------\n",
            "[INFO]: Epoch 46 of 50\n",
            "Training\n"
          ]
        },
        {
          "output_type": "stream",
          "name": "stderr",
          "text": [
            "\n",
            "\u001b[35m100%|██████████████████████████████\u001b[0m"
          ]
        },
        {
          "output_type": "stream",
          "name": "stdout",
          "text": [
            "\n",
            "Validation\n"
          ]
        },
        {
          "output_type": "stream",
          "name": "stderr",
          "text": [
            "\n",
            "\u001b[36m100%|██████████████████████████████\u001b[0m"
          ]
        },
        {
          "output_type": "stream",
          "name": "stdout",
          "text": [
            "\n",
            "Training loss: 0.00, Training acc: 72.6\n",
            "Validation loss: 1.78, Validation acc: 54.0\n",
            "Inference time: 4.24 seconds\n",
            "--------------------------------------------------\n",
            "[INFO]: Epoch 47 of 50\n",
            "Training\n"
          ]
        },
        {
          "output_type": "stream",
          "name": "stderr",
          "text": [
            "\n",
            "\u001b[35m100%|██████████████████████████████\u001b[0m"
          ]
        },
        {
          "output_type": "stream",
          "name": "stdout",
          "text": [
            "\n",
            "Validation\n"
          ]
        },
        {
          "output_type": "stream",
          "name": "stderr",
          "text": [
            "\n",
            "\u001b[36m100%|██████████████████████████████\u001b[0m"
          ]
        },
        {
          "output_type": "stream",
          "name": "stdout",
          "text": [
            "\n",
            "Training loss: 0.00, Training acc: 73.5\n",
            "Validation loss: 1.78, Validation acc: 53.9\n",
            "Inference time: 4.20 seconds\n",
            "--------------------------------------------------\n",
            "[INFO]: Epoch 48 of 50\n",
            "Training\n"
          ]
        },
        {
          "output_type": "stream",
          "name": "stderr",
          "text": [
            "\n",
            "\u001b[35m100%|██████████████████████████████\u001b[0m"
          ]
        },
        {
          "output_type": "stream",
          "name": "stdout",
          "text": [
            "\n",
            "Validation\n"
          ]
        },
        {
          "output_type": "stream",
          "name": "stderr",
          "text": [
            "\n",
            "\u001b[36m100%|██████████████████████████████\u001b[0m"
          ]
        },
        {
          "output_type": "stream",
          "name": "stdout",
          "text": [
            "\n",
            "Training loss: 0.00, Training acc: 74.1\n",
            "Validation loss: 1.77, Validation acc: 54.1\n",
            "Inference time: 3.45 seconds\n",
            "--------------------------------------------------\n",
            "[INFO]: Epoch 49 of 50\n",
            "Training\n"
          ]
        },
        {
          "output_type": "stream",
          "name": "stderr",
          "text": [
            "\n",
            "\u001b[35m100%|██████████████████████████████\u001b[0m"
          ]
        },
        {
          "output_type": "stream",
          "name": "stdout",
          "text": [
            "\n",
            "Validation\n"
          ]
        },
        {
          "output_type": "stream",
          "name": "stderr",
          "text": [
            "\n",
            "\u001b[36m100%|██████████████████████████████\u001b[0m"
          ]
        },
        {
          "output_type": "stream",
          "name": "stdout",
          "text": [
            "\n",
            "Training loss: 0.00, Training acc: 74.7\n",
            "Validation loss: 1.77, Validation acc: 54.1\n",
            "Inference time: 4.29 seconds\n",
            "--------------------------------------------------\n",
            "[INFO]: Epoch 50 of 50\n",
            "Training\n"
          ]
        },
        {
          "output_type": "stream",
          "name": "stderr",
          "text": [
            "\n",
            "\u001b[35m100%|██████████████████████████████\u001b[0m"
          ]
        },
        {
          "output_type": "stream",
          "name": "stdout",
          "text": [
            "\n",
            "Validation\n"
          ]
        },
        {
          "output_type": "stream",
          "name": "stderr",
          "text": [
            "\n",
            "\u001b[36m100%|██████████████████████████████\u001b[0m\n"
          ]
        },
        {
          "output_type": "stream",
          "name": "stdout",
          "text": [
            "\n",
            "Training loss: 0.00, Training acc: 75.1\n",
            "Validation loss: 1.77, Validation acc: 54.3\n",
            "Inference time: 3.39 seconds\n",
            "--------------------------------------------------\n",
            "Highest validation accuracy achieved: 54.3 at epoch 50\n",
            "ResNet18 - CIFAR100\n"
          ]
        },
        {
          "output_type": "display_data",
          "data": {
            "text/plain": [
              "<Figure size 1000x700 with 1 Axes>"
            ],
            "image/png": "[encoded data removed]"
          },
          "metadata": {}
        },
        {
          "output_type": "display_data",
          "data": {
            "text/plain": [
              "<Figure size 1000x700 with 1 Axes>"
            ],
            "image/png": "[encoded data removed]"
          },
          "metadata": {}
        }
      ]
    },
    {
      "cell_type": "markdown",
      "source": [
        "####Save Model"
      ],
      "metadata": {
        "id": "mqk2maWk5kif"
      }
    },
    {
      "cell_type": "code",
      "source": [
        "# # ONLY RUN THIS BLOCK IF DOING WEIGHT PRE-TRAINING\n",
        "# from google.colab import drive\n",
        "# drive.mount('/content/drive')\n",
        "# save_path = '/content/drive/My Drive/Colab Notebooks/EfficientNetB0.pth'\n",
        "# torch.save(model.state_dict(), save_path)"
      ],
      "metadata": {
        "id": "owJmQQeHsnrF"
      },
      "execution_count": 13,
      "outputs": []
    }
  ]
}